{
 "cells": [
  {
   "cell_type": "markdown",
   "id": "e4fc29c0d30afb83",
   "metadata": {},
   "source": [
    "# ADA final exam (Fall 2023)\n",
    "\n",
    "This exam consists of 2 parts. Parts are independent from each other.\n",
    "\n",
    "## Dataset\n",
    "\n",
    "\n",
    "\"Friends\" is an American television sitcom that originally aired on NBC from September 22, 1994, to May 6, 2004. Created by David Crane and Marta Kauffman, the show gained immense popularity and has since become a classic in the world of television. The series is set in New York City and revolves around a group of six friends: Ross Geller (David Schwimmer), Rachel Green (Jennifer Aniston), Monica Geller (Courteney Cox), Chandler Bing (Matthew Perry), Joey Tribbiani (Matt LeBlanc), and Phoebe Buffay (Lisa Kudrow). The show explores their personal and professional lives as they navigate the ups and downs of relationships, careers, and the challenges of adulthood.\n",
    "\n",
    "In this exam, we will use a dataset containing all the conversations that occurred over 10 seasons of Friends. We refer to each row in the dataset as an 'utterance.\" The data format of the dataset is as follows\n",
    "\n",
    "- id: `<str>`, the index of the utterance in the format sAA_eBB_cCC_uDDD, where AA is the season number, BB is the episode number, CC is the scene/conversation number, and DDD is the number of the utterance in the scene (e.g. s01_e18_c05_u021).\n",
    "- speaker: `<str>`, the speaker who made the utterance, e.g. Monica Geller\n",
    "- conversation_id: `<str>`, the id of the first utterance in the conversation this utterance belongs. We assume conversations begin at the start of a new scene.\n",
    "- reply_to: `<str>`, the id of the utterance to which this utterance replies. None if the utterance is the first in a conversation.\n",
    "- text: `<str>`, the textual content of the utterance.\n"
   ]
  },
  {
   "cell_type": "code",
   "execution_count": 1,
   "id": "b039cc2f",
   "metadata": {},
   "outputs": [],
   "source": [
    "# First, let's import some required libraries!\n",
    "import statsmodels.formula.api as smf\n",
    "import pandas as pd\n",
    "from collections import Counter\n",
    "import networkx as nx\n",
    "import seaborn as sns\n",
    "import matplotlib.pyplot as plt\n",
    "import itertools\n",
    "import numpy as np"
   ]
  },
  {
   "cell_type": "markdown",
   "id": "77be188a",
   "metadata": {},
   "source": [
    "\n",
    "## Part 1: The one where you find the protagonist (60 pts)\n",
    "\n",
    "A big debate among Friends fans is: who is the show's main character? In this task, your goal is to provide a data-driven answer to this question.\n",
    "\n",
    "\n",
    "--- \n",
    "\n",
    "**1.1 —** Load the data from the jsonl file `exam1.jsonl` into a pandas dataframe. Then\n",
    " \n",
    " A. Calculate and display the number of distinct speakers in the dataframe.\n",
    " \n",
    " B. Calculate and display the number of conversations (see `conversation_id`).\n",
    " \n",
    " C. Remove all utterances from the dataframe where the `speaker` is \"TRANSCRIPT_NOTE\" or \"#ALL#\". Print the number of rows in the dataframe.\n",
    " \n",
    " D. Create additional columns corresponding to the season (`season`, e.g., season 1 should contain `s01`) and the episode (`episode`, e.g., episode 5 of season 4 should contain `s04_e05`) of each utterance. Print the season and the episode associated with utterance `s10_e18_c11_u019`.\n",
    " \n",
    " E. Create an additional column corresponding to the length of each utterance in terms of the number of characters (`length`). Print the length associated with utterance `s10_e18_c11_u019`.\n"
   ]
  },
  {
   "cell_type": "code",
   "execution_count": 2,
   "id": "d4daa420",
   "metadata": {},
   "outputs": [],
   "source": [
    "df = pd.read_json(\"data/exam1.jsonl\", lines=True)"
   ]
  },
  {
   "cell_type": "code",
   "execution_count": 3,
   "id": "21a96013",
   "metadata": {},
   "outputs": [
    {
     "data": {
      "text/html": [
       "<div>\n",
       "<style scoped>\n",
       "    .dataframe tbody tr th:only-of-type {\n",
       "        vertical-align: middle;\n",
       "    }\n",
       "\n",
       "    .dataframe tbody tr th {\n",
       "        vertical-align: top;\n",
       "    }\n",
       "\n",
       "    .dataframe thead th {\n",
       "        text-align: right;\n",
       "    }\n",
       "</style>\n",
       "<table border=\"1\" class=\"dataframe\">\n",
       "  <thead>\n",
       "    <tr style=\"text-align: right;\">\n",
       "      <th></th>\n",
       "      <th>id</th>\n",
       "      <th>conversation_id</th>\n",
       "      <th>text</th>\n",
       "      <th>speaker</th>\n",
       "      <th>reply-to</th>\n",
       "    </tr>\n",
       "  </thead>\n",
       "  <tbody>\n",
       "    <tr>\n",
       "      <th>0</th>\n",
       "      <td>s01_e01_c01_u001</td>\n",
       "      <td>s01_e01_c01_u001</td>\n",
       "      <td>There's nothing to tell! He's just some guy I ...</td>\n",
       "      <td>Monica Geller</td>\n",
       "      <td>None</td>\n",
       "    </tr>\n",
       "    <tr>\n",
       "      <th>1</th>\n",
       "      <td>s01_e01_c01_u002</td>\n",
       "      <td>s01_e01_c01_u001</td>\n",
       "      <td>C'mon, you're going out with the guy! There's ...</td>\n",
       "      <td>Joey Tribbiani</td>\n",
       "      <td>s01_e01_c01_u001</td>\n",
       "    </tr>\n",
       "    <tr>\n",
       "      <th>2</th>\n",
       "      <td>s01_e01_c01_u003</td>\n",
       "      <td>s01_e01_c01_u001</td>\n",
       "      <td>All right Joey, be nice. So does he have a hum...</td>\n",
       "      <td>Chandler Bing</td>\n",
       "      <td>s01_e01_c01_u002</td>\n",
       "    </tr>\n",
       "    <tr>\n",
       "      <th>3</th>\n",
       "      <td>s01_e01_c01_u004</td>\n",
       "      <td>s01_e01_c01_u001</td>\n",
       "      <td>Wait, does he eat chalk?</td>\n",
       "      <td>Phoebe Buffay</td>\n",
       "      <td>s01_e01_c01_u003</td>\n",
       "    </tr>\n",
       "    <tr>\n",
       "      <th>4</th>\n",
       "      <td>s01_e01_c01_u005</td>\n",
       "      <td>s01_e01_c01_u001</td>\n",
       "      <td></td>\n",
       "      <td>TRANSCRIPT_NOTE</td>\n",
       "      <td>s01_e01_c01_u004</td>\n",
       "    </tr>\n",
       "  </tbody>\n",
       "</table>\n",
       "</div>"
      ],
      "text/plain": [
       "                 id   conversation_id  \\\n",
       "0  s01_e01_c01_u001  s01_e01_c01_u001   \n",
       "1  s01_e01_c01_u002  s01_e01_c01_u001   \n",
       "2  s01_e01_c01_u003  s01_e01_c01_u001   \n",
       "3  s01_e01_c01_u004  s01_e01_c01_u001   \n",
       "4  s01_e01_c01_u005  s01_e01_c01_u001   \n",
       "\n",
       "                                                text          speaker  \\\n",
       "0  There's nothing to tell! He's just some guy I ...    Monica Geller   \n",
       "1  C'mon, you're going out with the guy! There's ...   Joey Tribbiani   \n",
       "2  All right Joey, be nice. So does he have a hum...    Chandler Bing   \n",
       "3                           Wait, does he eat chalk?    Phoebe Buffay   \n",
       "4                                                     TRANSCRIPT_NOTE   \n",
       "\n",
       "           reply-to  \n",
       "0              None  \n",
       "1  s01_e01_c01_u001  \n",
       "2  s01_e01_c01_u002  \n",
       "3  s01_e01_c01_u003  \n",
       "4  s01_e01_c01_u004  "
      ]
     },
     "execution_count": 3,
     "metadata": {},
     "output_type": "execute_result"
    }
   ],
   "source": [
    "df.head()"
   ]
  },
  {
   "cell_type": "code",
   "execution_count": 4,
   "id": "f13e556c",
   "metadata": {},
   "outputs": [
    {
     "name": "stdout",
     "output_type": "stream",
     "text": [
      "700\n"
     ]
    }
   ],
   "source": [
    "#A\n",
    "unique_speakers = df.speaker.unique()\n",
    "print(len(unique_speakers))"
   ]
  },
  {
   "cell_type": "code",
   "execution_count": 5,
   "id": "458d44c3",
   "metadata": {},
   "outputs": [
    {
     "name": "stdout",
     "output_type": "stream",
     "text": [
      "3107\n"
     ]
    }
   ],
   "source": [
    "#B\n",
    "print(len(df.conversation_id.unique()))"
   ]
  },
  {
   "cell_type": "code",
   "execution_count": 6,
   "id": "29883188",
   "metadata": {},
   "outputs": [
    {
     "data": {
      "text/plain": [
       "60985"
      ]
     },
     "execution_count": 6,
     "metadata": {},
     "output_type": "execute_result"
    }
   ],
   "source": [
    "#C\n",
    "df.drop(df.loc[df[\"speaker\"].isin([\"TRANSCRIPT_NOTE\", \"#ALL#\"]), :].index, inplace=True)\n",
    "len(df)"
   ]
  },
  {
   "cell_type": "code",
   "execution_count": 7,
   "id": "8795f72a",
   "metadata": {},
   "outputs": [],
   "source": [
    "#D\n",
    "df[\"season\"] = df[\"id\"].apply(lambda str: str[:3])\n",
    "df[\"episode\"] = df[\"id\"].apply(lambda str: str[:7])"
   ]
  },
  {
   "cell_type": "code",
   "execution_count": 8,
   "id": "5bf61ab0",
   "metadata": {},
   "outputs": [
    {
     "data": {
      "text/html": [
       "<div>\n",
       "<style scoped>\n",
       "    .dataframe tbody tr th:only-of-type {\n",
       "        vertical-align: middle;\n",
       "    }\n",
       "\n",
       "    .dataframe tbody tr th {\n",
       "        vertical-align: top;\n",
       "    }\n",
       "\n",
       "    .dataframe thead th {\n",
       "        text-align: right;\n",
       "    }\n",
       "</style>\n",
       "<table border=\"1\" class=\"dataframe\">\n",
       "  <thead>\n",
       "    <tr style=\"text-align: right;\">\n",
       "      <th></th>\n",
       "      <th>id</th>\n",
       "      <th>season</th>\n",
       "      <th>episode</th>\n",
       "    </tr>\n",
       "  </thead>\n",
       "  <tbody>\n",
       "    <tr>\n",
       "      <th>67370</th>\n",
       "      <td>s10_e18_c11_u019</td>\n",
       "      <td>s10</td>\n",
       "      <td>s10_e18</td>\n",
       "    </tr>\n",
       "  </tbody>\n",
       "</table>\n",
       "</div>"
      ],
      "text/plain": [
       "                     id season  episode\n",
       "67370  s10_e18_c11_u019    s10  s10_e18"
      ]
     },
     "execution_count": 8,
     "metadata": {},
     "output_type": "execute_result"
    }
   ],
   "source": [
    "df.loc[df[\"id\"] == \"s10_e18_c11_u019\", [\"id\", \"season\", \"episode\"]]"
   ]
  },
  {
   "cell_type": "code",
   "execution_count": 9,
   "id": "4cb83753",
   "metadata": {},
   "outputs": [],
   "source": [
    "#E\n",
    "df[\"length\"] = df[\"text\"].apply(lambda text: len(text))"
   ]
  },
  {
   "cell_type": "code",
   "execution_count": 10,
   "id": "e1776ff5",
   "metadata": {},
   "outputs": [
    {
     "data": {
      "text/html": [
       "<div>\n",
       "<style scoped>\n",
       "    .dataframe tbody tr th:only-of-type {\n",
       "        vertical-align: middle;\n",
       "    }\n",
       "\n",
       "    .dataframe tbody tr th {\n",
       "        vertical-align: top;\n",
       "    }\n",
       "\n",
       "    .dataframe thead th {\n",
       "        text-align: right;\n",
       "    }\n",
       "</style>\n",
       "<table border=\"1\" class=\"dataframe\">\n",
       "  <thead>\n",
       "    <tr style=\"text-align: right;\">\n",
       "      <th></th>\n",
       "      <th>id</th>\n",
       "      <th>text</th>\n",
       "      <th>length</th>\n",
       "    </tr>\n",
       "  </thead>\n",
       "  <tbody>\n",
       "    <tr>\n",
       "      <th>67370</th>\n",
       "      <td>s10_e18_c11_u019</td>\n",
       "      <td>We got some time.</td>\n",
       "      <td>17</td>\n",
       "    </tr>\n",
       "  </tbody>\n",
       "</table>\n",
       "</div>"
      ],
      "text/plain": [
       "                     id               text  length\n",
       "67370  s10_e18_c11_u019  We got some time.      17"
      ]
     },
     "execution_count": 10,
     "metadata": {},
     "output_type": "execute_result"
    }
   ],
   "source": [
    "df.loc[df[\"id\"] == \"s10_e18_c11_u019\", [\"id\", \"text\", \"length\"]]"
   ]
  },
  {
   "cell_type": "markdown",
   "id": "60d3bdc7",
   "metadata": {},
   "source": [
    "**1.2** Next, you conduct some basic analyses:\n",
    "\n",
    " A. With `statsmodels`, fit a linear regression `length ~ C(season, Treatment(reference=\"s01\"))`, where length is an integer and season is a categorical variable. Print the regression summary.\n",
    " \n",
    " B. /**Discuss:/** Considering the regression summary:\n",
    "   - What does the intercept in this regression represent? \n",
    "   - What does the coefficient `C(season, Treatment(reference=\"s01\"))[T.s09]` represent? \n",
    "   - Does the average utterance in season 9 contain significantly more characters than in season 1 at the 0.05 significance level? Justify with the regression summary **only**. \n",
    "   - Does the average utterance in season 10 contain significantly more characters than in season 1 at the 0.05 significance level? Justify with the regression summary  **only** .\n",
    "\n",
    " C. Argue visually (i.e., with a plot) that there are 6 main characters in the show."
   ]
  },
  {
   "cell_type": "code",
   "execution_count": 11,
   "id": "bf0b3c34",
   "metadata": {},
   "outputs": [
    {
     "name": "stdout",
     "output_type": "stream",
     "text": [
      "                            OLS Regression Results                            \n",
      "==============================================================================\n",
      "Dep. Variable:                 length   R-squared:                       0.001\n",
      "Model:                            OLS   Adj. R-squared:                  0.001\n",
      "Method:                 Least Squares   F-statistic:                     8.058\n",
      "Date:                Tue, 16 Jan 2024   Prob (F-statistic):           4.96e-12\n",
      "Time:                        16:11:49   Log-Likelihood:            -3.2981e+05\n",
      "No. Observations:               60985   AIC:                         6.596e+05\n",
      "Df Residuals:                   60975   BIC:                         6.597e+05\n",
      "Df Model:                           9                                         \n",
      "Covariance Type:            nonrobust                                         \n",
      "================================================================================================================\n",
      "                                                   coef    std err          t      P>|t|      [0.025      0.975]\n",
      "----------------------------------------------------------------------------------------------------------------\n",
      "Intercept                                       51.0190      0.704     72.464      0.000      49.639      52.399\n",
      "C(season, Treatment(reference='s01'))[T.s02]     2.2764      1.004      2.268      0.023       0.309       4.243\n",
      "C(season, Treatment(reference='s01'))[T.s03]     1.1906      0.974      1.222      0.222      -0.718       3.100\n",
      "C(season, Treatment(reference='s01'))[T.s04]     0.6674      0.980      0.681      0.496      -1.253       2.588\n",
      "C(season, Treatment(reference='s01'))[T.s05]    -0.3185      0.984     -0.324      0.746      -2.247       1.610\n",
      "C(season, Treatment(reference='s01'))[T.s06]     1.9612      0.974      2.013      0.044       0.052       3.871\n",
      "C(season, Treatment(reference='s01'))[T.s07]     0.3712      0.979      0.379      0.705      -1.548       2.290\n",
      "C(season, Treatment(reference='s01'))[T.s08]     1.1265      0.982      1.147      0.251      -0.799       3.052\n",
      "C(season, Treatment(reference='s01'))[T.s09]     6.0889      0.979      6.222      0.000       4.171       8.007\n",
      "C(season, Treatment(reference='s01'))[T.s10]    -0.8470      1.026     -0.825      0.409      -2.858       1.164\n",
      "==============================================================================\n",
      "Omnibus:                    39360.499   Durbin-Watson:                   1.966\n",
      "Prob(Omnibus):                  0.000   Jarque-Bera (JB):           721113.209\n",
      "Skew:                           2.832   Prob(JB):                         0.00\n",
      "Kurtosis:                      18.865   Cond. No.                         11.1\n",
      "==============================================================================\n",
      "\n",
      "Notes:\n",
      "[1] Standard Errors assume that the covariance matrix of the errors is correctly specified.\n"
     ]
    }
   ],
   "source": [
    "res = smf.ols(\"length ~ C(season, Treatment(reference='s01'))\", data=df).fit()\n",
    "print(res.summary())"
   ]
  },
  {
   "cell_type": "markdown",
   "id": "2c91135a",
   "metadata": {},
   "source": [
    "**B** \n",
    "\n",
    "- The intercept of this regression represents the mean length of the reference for the entire dataframe so for the season 1. In average a line of dialogue in season 1 is 45.5 characters long.\n",
    "- The coeficient `C(season, Treatment(reference=\"s01\"))[T.s09]` used for the regression is the seasob of each dialogue, so we are looking at the relation between the season and the length of each text. The `Treatment(reference=\"s01\")` is there to indicate the reference for the regression here s01 and its mean behaviour is represented by the intercept. \n",
    "- Yes on average there is 6.1 more characters in the texts of the season 9 than in the season 1.\n",
    "We can see that with the coeficient given for season 9. Also this result is significant since the P-value is 0.000 which is below 5% (0.05).\n",
    "- The average utterance in season 10 is on average 0.85 characters shorter than in season 1, we see that with the coeficient of S10. But the P value is this time bigger than the 5% thershold (0.409) and so this result is not significant \n"
   ]
  },
  {
   "cell_type": "code",
   "execution_count": 12,
   "id": "c637cb98",
   "metadata": {},
   "outputs": [
    {
     "data": {
      "text/plain": [
       "[]"
      ]
     },
     "execution_count": 12,
     "metadata": {},
     "output_type": "execute_result"
    },
    {
     "data": {
      "image/png": "[encoded data removed]",
      "text/plain": [
       "<Figure size 640x480 with 1 Axes>"
      ]
     },
     "metadata": {},
     "output_type": "display_data"
    }
   ],
   "source": [
    "values_count = df[\"speaker\"].value_counts()[:20] #We only take the biggest 10 speackers for visibility \n",
    "ax = sns.barplot(x= values_count.values, y= values_count.index, orient=\"h\")\n",
    "plt.title(\"Bar plot of the number of utterance per speaker\")\n",
    "ax.set(xlabel= \"Number of utterance\", ylabel=\"Speaker\")\n",
    "plt.plot()\n"
   ]
  },
  {
   "cell_type": "markdown",
   "id": "ddf2cf23",
   "metadata": {},
   "source": [
    "**C** We clearely see in this graph that there is 6 main characters in \"Friends\""
   ]
  },
  {
   "cell_type": "markdown",
   "id": "eeb47cab",
   "metadata": {},
   "source": [
    "--- \n",
    "**1.3 —** Using `networkx` \n",
    "\n",
    "A. Create a `MultiDiGraph` (directed graph with self loops and parallel edges) where:\n",
    "- Each node $u$ is a character uniquely identified by the `speaker` field.\n",
    "- There is an edge between nodes $u$ and $v$ if $u$ replied to $v$. If an utterance (a row in the dataframe) is said in reply to nobody, then it will not correspond to an edge. Each edge should contain two attributes. Each edge should have two attributes: `season` and `episode`.\n",
    "\n",
    "B. Print the number of nodes and edges in your graph.\n",
    "\n",
    "C. **/Discuss:/** Instead of using multi-edges, what would be another way in which you could capture the number of replies associated with each node pair?\n"
   ]
  },
  {
   "cell_type": "code",
   "execution_count": 13,
   "id": "f9fab0fd",
   "metadata": {},
   "outputs": [
    {
     "data": {
      "text/html": [
       "<div>\n",
       "<style scoped>\n",
       "    .dataframe tbody tr th:only-of-type {\n",
       "        vertical-align: middle;\n",
       "    }\n",
       "\n",
       "    .dataframe tbody tr th {\n",
       "        vertical-align: top;\n",
       "    }\n",
       "\n",
       "    .dataframe thead th {\n",
       "        text-align: right;\n",
       "    }\n",
       "</style>\n",
       "<table border=\"1\" class=\"dataframe\">\n",
       "  <thead>\n",
       "    <tr style=\"text-align: right;\">\n",
       "      <th></th>\n",
       "      <th>id</th>\n",
       "      <th>conversation_id</th>\n",
       "      <th>text</th>\n",
       "      <th>speaker</th>\n",
       "      <th>reply-to</th>\n",
       "      <th>season</th>\n",
       "      <th>episode</th>\n",
       "      <th>length</th>\n",
       "    </tr>\n",
       "  </thead>\n",
       "  <tbody>\n",
       "    <tr>\n",
       "      <th>0</th>\n",
       "      <td>s01_e01_c01_u001</td>\n",
       "      <td>s01_e01_c01_u001</td>\n",
       "      <td>There's nothing to tell! He's just some guy I ...</td>\n",
       "      <td>Monica Geller</td>\n",
       "      <td>None</td>\n",
       "      <td>s01</td>\n",
       "      <td>s01_e01</td>\n",
       "      <td>56</td>\n",
       "    </tr>\n",
       "    <tr>\n",
       "      <th>1</th>\n",
       "      <td>s01_e01_c01_u002</td>\n",
       "      <td>s01_e01_c01_u001</td>\n",
       "      <td>C'mon, you're going out with the guy! There's ...</td>\n",
       "      <td>Joey Tribbiani</td>\n",
       "      <td>s01_e01_c01_u001</td>\n",
       "      <td>s01</td>\n",
       "      <td>s01_e01</td>\n",
       "      <td>80</td>\n",
       "    </tr>\n",
       "    <tr>\n",
       "      <th>2</th>\n",
       "      <td>s01_e01_c01_u003</td>\n",
       "      <td>s01_e01_c01_u001</td>\n",
       "      <td>All right Joey, be nice. So does he have a hum...</td>\n",
       "      <td>Chandler Bing</td>\n",
       "      <td>s01_e01_c01_u002</td>\n",
       "      <td>s01</td>\n",
       "      <td>s01_e01</td>\n",
       "      <td>72</td>\n",
       "    </tr>\n",
       "    <tr>\n",
       "      <th>3</th>\n",
       "      <td>s01_e01_c01_u004</td>\n",
       "      <td>s01_e01_c01_u001</td>\n",
       "      <td>Wait, does he eat chalk?</td>\n",
       "      <td>Phoebe Buffay</td>\n",
       "      <td>s01_e01_c01_u003</td>\n",
       "      <td>s01</td>\n",
       "      <td>s01_e01</td>\n",
       "      <td>24</td>\n",
       "    </tr>\n",
       "    <tr>\n",
       "      <th>5</th>\n",
       "      <td>s01_e01_c01_u006</td>\n",
       "      <td>s01_e01_c01_u001</td>\n",
       "      <td>Just, 'cause, I don't want her to go through w...</td>\n",
       "      <td>Phoebe Buffay</td>\n",
       "      <td>s01_e01_c01_u005</td>\n",
       "      <td>s01</td>\n",
       "      <td>s01_e01</td>\n",
       "      <td>79</td>\n",
       "    </tr>\n",
       "  </tbody>\n",
       "</table>\n",
       "</div>"
      ],
      "text/plain": [
       "                 id   conversation_id  \\\n",
       "0  s01_e01_c01_u001  s01_e01_c01_u001   \n",
       "1  s01_e01_c01_u002  s01_e01_c01_u001   \n",
       "2  s01_e01_c01_u003  s01_e01_c01_u001   \n",
       "3  s01_e01_c01_u004  s01_e01_c01_u001   \n",
       "5  s01_e01_c01_u006  s01_e01_c01_u001   \n",
       "\n",
       "                                                text         speaker  \\\n",
       "0  There's nothing to tell! He's just some guy I ...   Monica Geller   \n",
       "1  C'mon, you're going out with the guy! There's ...  Joey Tribbiani   \n",
       "2  All right Joey, be nice. So does he have a hum...   Chandler Bing   \n",
       "3                           Wait, does he eat chalk?   Phoebe Buffay   \n",
       "5  Just, 'cause, I don't want her to go through w...   Phoebe Buffay   \n",
       "\n",
       "           reply-to season  episode  length  \n",
       "0              None    s01  s01_e01      56  \n",
       "1  s01_e01_c01_u001    s01  s01_e01      80  \n",
       "2  s01_e01_c01_u002    s01  s01_e01      72  \n",
       "3  s01_e01_c01_u003    s01  s01_e01      24  \n",
       "5  s01_e01_c01_u005    s01  s01_e01      79  "
      ]
     },
     "execution_count": 13,
     "metadata": {},
     "output_type": "execute_result"
    }
   ],
   "source": [
    "df.head()"
   ]
  },
  {
   "cell_type": "code",
   "execution_count": 30,
   "id": "9f362612",
   "metadata": {},
   "outputs": [],
   "source": [
    "#A\n",
    "G = nx.MultiDiGraph()\n",
    "df_temp = df.set_index(\"id\", inplace= False)\n",
    "for index, row in df.iterrows():\n",
    "    if row[\"reply-to\"] is not None:\n",
    "        try:\n",
    "            replied_to = df_temp.loc[row[\"reply-to\"]].speaker\n",
    "            G.add_edge(u_for_edge= row[\"speaker\"], v_for_edge= replied_to, season=row[\"season\"], episode=row[\"episode\"])\n",
    "        except:\n",
    "            pass"
   ]
  },
  {
   "cell_type": "code",
   "execution_count": 31,
   "id": "a310dfa0",
   "metadata": {},
   "outputs": [
    {
     "name": "stdout",
     "output_type": "stream",
     "text": [
      "692 54904\n"
     ]
    }
   ],
   "source": [
    "#B\n",
    "print(G.number_of_nodes(), G.number_of_edges())"
   ]
  },
  {
   "cell_type": "markdown",
   "id": "bb359a35",
   "metadata": {},
   "source": [
    "**C** We could put a 3rd attribute at each edge between people counting the number of replies. It could be named \"weight\" for example. "
   ]
  },
  {
   "cell_type": "markdown",
   "id": "130a16f1",
   "metadata": {},
   "source": [
    "---\n",
    "With the graph ready, you set out to investigate who is the true protagonist of Friends.\n",
    "\n",
    "Ignore the graph you generated previously and instead use the graph provided in `exam2.graphml`. Note that this graph may be slightly different from what you generated, but treat it as the ground truth. We provide you with code to load the graph below.\n"
   ]
  },
  {
   "cell_type": "code",
   "execution_count": 35,
   "id": "a917d360",
   "metadata": {},
   "outputs": [],
   "source": [
    "import networkx as nx\n",
    "\n",
    "G = nx.read_graphml(\"./data/exam2.graphml\")"
   ]
  },
  {
   "cell_type": "markdown",
   "id": "6ad04b50",
   "metadata": {},
   "source": [
    "---"
   ]
  },
  {
   "cell_type": "markdown",
   "id": "53ee10e7",
   "metadata": {},
   "source": [
    "**1.4 —** Using the provided MultiDiGraph $G$:\n",
    "\n",
    "A. Calculate the out-degree of each node (also known as out-degree centrality). Please do not use the `nx.out_degree_centrality` function here, as it normalizes the degree. (E.g., if a node has 5 outgoing edges, it should have out-degree 5 according to your code.)\n",
    "\n",
    "B. Calculate the PageRank centrality of each node in $G$. Use the default parameters.\n",
    "\n",
    "C. Print both centrality metrics calculated above for the six main characters of Friends.\n",
    "\n",
    "D. **/Discuss:/** According to the metrics, who is the most important character in Friends?"
   ]
  },
  {
   "cell_type": "code",
   "execution_count": 42,
   "id": "aa8407dd",
   "metadata": {},
   "outputs": [
    {
     "name": "stdout",
     "output_type": "stream",
     "text": [
      "{'Joey Tribbiani': 7395, 'Monica Geller': 7621, 'Chandler Bing': 7702, 'Phoebe Buffay': 6797, 'Ross Geller': 8234, 'Rachel Green': 8470, 'Waitress': 6, 'Paul the Wine Guy': 14, 'Priest On Tv': 0, 'Franny': 6, 'Customer': 12, 'Marsha': 4, 'Carol Willick': 183, 'Judy Geller': 154, 'Susan Bunch': 94, 'Barry Farber': 35, 'Robbie': 4, 'Bernice': 3, 'Dr. Oberman': 3, 'Paula': 6, 'Alan': 4, 'The Guys': 9, 'Lizzy': 10, 'Leslie': 17, 'Guys': 4, 'Kiki': 4, 'Joanne': 5, 'Receptionist': 30, 'Pizza Guy': 8, 'Both': 15, 'Kid': 7, 'Angela Delveccio': 10, 'Janice Litman Goralnik': 189, 'Woman': 89, 'Bob': 7, 'Aurora': 28, 'Director': 49, 'Jill Goodacre': 8, 'Mr. Heckles': 31, 'Paolo': 18, 'Shelley': 11, 'Aunt Lillian': 8, 'Nurse Sizemore': 12, 'Andrea': 2, 'Lowell': 7, 'Terry': 18, 'Guy': 54, 'Girl': 23, 'Max': 12, 'David': 116, 'Sandy': 29, 'Bobby Rush': 28, 'Dick Clark': 2, 'Jay Leno': 4, 'Nora Tyler Bing': 32, 'Coma Guy': 7, \"Phoebe's Assistant\": 1, 'Roger': 24, 'Joey Tribbiani Sr.': 19, 'Ronni Rapalono': 17, 'Gloria Tribbiani': 8, 'Lorraine': 5, 'Kristin': 4, 'Fireman No. 2': 3, 'Fireman No. 1': 1, 'Fireman No. 3': 3, 'Mrs. Tedlock': 1, 'Celia': 5, 'Steve (drug addict)': 21, 'Ursula': 14, 'Teacher': 11, 'Helen': 2, 'Nina Bookbinder': 11, 'Mr. Douglas': 12, 'Frank Buffay Jr.': 166, 'Jamie': 7, 'Soothing Male Voice': 0, 'Dr. Mitchell': 7, 'Dr. Rosen': 10, \"Phoebe's Friends\": 1, 'Aunt Iris': 5, 'Intercom': 3, 'Luisa Gianetti': 15, 'Woman No. 1': 5, 'Mindy Hunter': 27, 'Danielle': 5, 'Fake Monica': 18, 'Dr. Baldhara': 7, 'Announcement': 0, 'Casting Director No. 1': 1, 'Actor': 0, 'Casting Director No. 2': 2, 'Ethan': 22, 'Santos': 2, 'Gerston': 1, 'Petrie': 1, 'Dr. Franzblau': 14, 'Lydia': 19, 'Melanie': 5, 'Flight Attendant': 6, 'Man': 47, \"Carl (Rachel's date)\": 4, 'Julie': 38, 'Paulo': 3, 'Annabelle': 7, 'Hombre Man': 9, 'Store Guy': 2, 'Mr. Treeger': 50, 'Buddy Boyles': 3, 'Alison': 1, 'Stranger': 6, 'Duncan': 20, 'Old Woman': 1, 'Jade': 17, 'Waiter': 46, 'Machine': 7, 'Steven Fisher': 6, 'Caroline': 6, 'Doctor': 16, 'Girl 1 On Bus': 1, 'Girl 2 On Bus': 1, 'Girl 1': 5, 'Girl 2': 2, 'Stephanie Schiffer': 13, 'Transit Authority Guy': 1, 'Together': 1, 'Michael': 13, 'Mr. Ratstatter': 16, 'Radio': 2, 'Gunther': 110, 'Gang': 6, 'Grandmother': 17, 'Russ': 22, 'Estelle Leonard': 33, 'Mrs. Wallace': 1, 'Sandra Green': 78, 'Mr. Adelman': 8, 'Minister': 20, 'Rob': 15, 'Erica Ford': 24, 'Dean Lipson': 5, 'Kids': 1, 'Janitor': 10, 'Tv Doctor': 0, 'Security Guard': 3, 'Trainer': 2, \"Director's Assistant\": 6, 'Susie Moss': 34, 'Jean-Claude Van Damme': 12, 'Interviewer': 24, 'Gail': 2, 'Roy': 25, 'Chip Matthews': 17, 'Richard Burke': 262, 'Delivery Guy': 5, 'Friend': 3, \"Joey's Co-Star\": 9, 'Tattoo Artist': 1, 'Producer': 3, 'Eddie Menuek': 60, 'Dr. Drake Ramoray': 27, 'Amber': 5, 'Tilly': 7, 'Dr. Horton': 2, 'Casting Guy': 4, 'Mover': 3, 'Ben Geller': 71, 'Ernie': 1, 'Big Bully': 22, 'Little Bully': 20, 'Mrs. Buffay': 7, 'Leonard Green': 84, \"Girl's Voice\": 1, 'Scott Alexander': 4, 'Ryan': 31, 'Jeannie': 2, 'Wedding Planner': 1, 'Mr. Wineburg': 4, 'Mrs. Wineburg': 2, 'Best Man': 2, 'Jack Geller': 136, \"Woman's Voice\": 1, 'Michelle Burke': 1, 'Sherman Whitfield': 5, 'Malcom': 12, 'Host': 0, 'Mike': 8, 'Jasmine': 8, 'Isabella Rosselini': 10, 'Eric (photographer)': 6, 'Friend No. 1': 4, 'Friend No. 2': 3, 'Her Friends': 1, 'Matress King': 2, 'Student': 8, 'Jester': 3, 'Margha': 9, 'Sarah Tuttle': 10, 'Leader': 5, 'Mr. Kaplan': 6, \"Joey's Sisters\": 2, 'Cookie Tribbiani': 4, 'Sister 1': 0, \"Joey's Grandmother\": 4, \"Joey's Sister\": 6, 'Mary-Angela': 2, 'Mary-Theresa': 1, 'Mark Robinson': 46, 'Jeannine': 2, 'Julio (poet)': 13, 'Quartet': 5, 'The Bass Barber': 2, 'Bass Singer': 1, 'Clerk': 6, 'Robert Bobby': 20, \"Richard's Date\": 6, 'Singer': 2, 'Ginger': 13, 'Lecturer': 0, 'Issac': 12, 'Chloe': 23, 'Mischa': 6, 'Sergei': 4, 'Sophie': 13, 'The Girls': 6, 'Alice Knight': 41, 'Peter Becker': 94, 'Secretary': 0, 'Employee': 1, 'Hypnosis Tape': 0, 'The Director': 41, 'Kate Miller': 57, 'Spokeswoman': 1, 'Joanna': 65, 'Lauren': 21, 'Anchorwoman': 1, 'Hold Voice': 2, 'Tommy': 19, 'Cailin': 4, 'Stage Manager': 3, 'Vince': 16, 'Jason': 12, 'Dr. Rhodes': 6, 'Dr. Johnson': 1, \"Pete's Mom\": 0, 'Fireman': 1, 'Guru Saj': 12, 'Robin Williams': 1, 'Billy': 9, 'Robin': 7, 'Doug': 39, 'Hoshi': 3, 'Bonnie': 32, 'Phil': 2, 'Stevens': 3, 'Announcer': 6, 'Referee': 1, 'Tv Announcer': 3, 'Phoebe Abbott': 47, 'Ursula Buffay': 48, 'Tony': 2, 'Peter': 1, 'The Salesman': 18, 'Oven': 1, 'Gym Employee': 6, 'Rick Sanoven': 9, 'Bank Officer': 2, 'Ms. Lambert': 1, 'Mr. Simon': 1, 'Mrs. Potter': 2, 'Kathy': 77, 'Joshua Burgin': 91, \"Amanda (Ross' date)\": 6, 'Cheryl': 13, 'Mrs. Burkart': 7, 'Casey': 1, 'Voice': 3, 'Nurse': 31, 'Timothy Burke': 26, 'Mr. Posner': 1, 'Mrs. Lynch': 8, 'Allesandro': 9, 'Drew': 4, 'A Waiter': 1, 'The Waiter': 15, 'The Woman From Poughkeepsie': 1, 'The Conductor': 0, 'Kitchen Worker': 2, 'Woman On Train': 4, 'Smart Kid': 1, 'Tour Guide': 5, 'Older Scientist': 1, 'Another Tour Guide': 1, 'Another Scientist': 2, 'Dr. Zane': 5, \"Kathy's Co-Star\": 2, 'Stephen Waltham': 39, 'Emily Waltham': 147, 'The A.D': 7, 'The Cigarette Smoking Guy': 1, 'Charlton Heston': 8, 'The Cigarette Guy': 1, 'Devon': 4, 'Liam': 5, 'Ticket Counter Attendant': 4, 'Mrs. Chatracus': 1, 'The Doctor': 17, 'Ticket Agent': 21, 'Mrs. Burgin': 4, 'Mr. Burgin': 8, 'The Singing Man': 4, 'The Saleslady': 6, 'Sleep Clinic Worker': 2, 'Marjorie': 3, 'The Stripper': 10, 'Dressmaker': 1, 'The Vendor': 4, 'Fergie': 4, 'Housekeeper': 6, 'Andrea Waltham': 28, 'Felicity': 3, 'Drunk Man': 2, 'Passenger': 7, 'Gate Agent': 4, 'Air Hostess': 2, 'Dave': 4, 'Dr. Harad': 13, \"Joey's Doctor\": 4, 'Male Nurse': 1, 'Dan': 6, 'Delivery Room Nurse': 1, 'Stage Director': 6, 'Pbs Volunteer': 2, 'Gary Collins': 2, 'Hotel Clerk': 2, 'Danny': 50, 'Health Inspector': 0, 'Larry': 16, 'Tom': 14, 'The Housekeeper': 1, 'The Paramedic': 1, 'The Teacher': 18, 'Cynthia': 2, 'Dr. Ledbetter': 16, 'A Female Student': 1, 'The Man': 5, \"Danny's Sister\": 1, 'Krista': 9, 'Elizabeth Hornswoggle': 4, 'Kara': 3, 'Frank Buffay Sr.': 22, 'The Pastor': 1, 'The Casting Director': 27, 'Katie': 14, 'Steve Cera': 11, 'Party Guests': 0, 'Guest #1': 1, 'Guest #2': 1, 'Guest #3': 1, 'The Smoking Woman': 7, 'Cop': 13, 'Gary': 89, 'The Saleswoman': 3, \"Gary's Radio\": 1, 'The Old Man': 1, 'The Little Girl': 1, 'Mr. Zelner': 45, 'The Hot Girl': 3, 'Jen': 4, 'Kim': 36, 'Nancy': 9, 'Kyle': 5, 'Raymond': 1, 'Delivery Girl': 0, 'Caitlin': 23, 'Grandma Tribbiani': 6, 'Answering Machine': 1, 'Woman No. 2': 4, 'Dr. Miller': 14, 'Stanley': 6, 'The Grip': 1, 'The Husband': 1, 'A Casino Boss': 1, 'A Tourist': 1, 'The Croupier': 2, 'The Flight Attendant': 2, 'Blackjack Dealer': 2, 'The Woman Dealer': 3, \"Joey's Hand Twin\": 13, 'A Drunken Gambler': 1, 'Drunken Gambler': 2, 'The Lurker': 5, 'The Security Guard': 6, 'The Attendant': 1, 'Attendant': 0, 'Croupler': 1, 'Hitchhiker': 4, 'Stephanie': 1, 'Karin': 2, 'Meg': 2, 'Russell': 11, 'The Potential Roommate': 7, 'The Professor': 1, 'Casting Director #1': 2, 'Casting Director #2': 3, 'Casting Director #3': 1, 'A Crew Member': 1, 'Alex': 1, 'A Student': 1, 'Guy #1': 0, 'Guy #2': 3, 'The Porsche Owner': 6, 'Judge': 10, 'Passerby': 1, 'Janine Lecroix': 79, 'Ralph Lauren': 2, 'Hillary': 14, 'Tall Guy': 5, 'Patron': 3, 'Customers': 1, 'Jill Green': 65, 'A Male Customer': 1, 'The Fan': 7, 'The Vampire': 1, 'Buffay': 1, \"Man's Voice\": 0, \"Another Man's Voice\": 1, \"Same Man's Voice\": 1, \"Monica's Boyfriend\": 6, 'Guy All The Way In The Back': 1, 'Dr. Wesley': 2, 'Hope': 2, 'Dr. Roger': 6, 'Arthur': 2, 'Jack': 10, \"Joey's Look-A-Like\": 1, \"Carl (Joey's lookalike)\": 3, 'The Instructor': 6, \"Janice's Voice\": 2, 'Elizabeth Stevens': 79, 'Burt': 2, 'Fireman #1': 5, 'Dana Keystone': 11, 'Fireman #2': 4, 'Mel': 1, 'Professor Feesen': 1, 'Sebastian': 8, 'Eldad': 4, 'Patrick': 3, 'The Producer': 5, 'Wayne': 10, 'C.H.E.E.S.E.': 4, 'Paul Stevens': 105, 'The Dry Cleaner': 13, 'The Museum Official': 4, 'Female Clerk': 2, 'Male Jeweler': 10, 'Female Jeweler': 1, 'Mr. Thompson': 10, 'Zoe': 0, 'Sarah': 18, 'Second Dorm Guy': 0, 'First Dorm Guy': 1, \"Matire'D\": 2, 'Lisa': 1, 'Emil Alexander': 1, 'Mr. Bowmont': 6, 'Narrator': 0, 'Mac': 1, 'Hilda': 4, 'Tag Jones': 136, 'Nurse #2': 1, 'Nurse #1': 0, 'Dr. Stryker Remoray': 0, 'Melissa Warburton': 31, 'The Photographer': 1, 'The Cute Guy': 7, 'Whitney': 8, 'Julie Graff': 2, \"Joey's Date\": 6, 'Erin': 24, 'Male Student': 1, 'Female Student': 0, 'The Waitress': 1, 'The Colonel': 0, 'The Librarian': 1, 'The Head Librarian': 2, 'The Knocker': 1, 'The Woman': 10, \"Maitre D'\": 8, 'Male Guest': 0, 'Salesman': 3, 'The Wedding Guest': 2, 'The Second Guest': 1, 'Aunt Millie': 3, 'Smoke Detector': 1, 'A Disembodied Voice': 1, 'The Fireman': 5, 'Supervisor': 7, 'Earl': 27, 'The \"Hey Guy\" Guy': 1, 'Marge': 1, 'The Man In The Sportscar': 0, 'Jessica Lockhart': 4, 'Dina': 26, 'Cecilia': 47, 'The Writer': 1, 'Fredrick': 1, 'Lisa Kudrow': 1, 'Matthew Perry': 0, 'Kristen Leigh': 27, 'Megan Bailey': 15, 'A Woman': 0, 'Lewis': 9, 'Ned Morse': 10, 'Jake': 4, 'The Presenter': 0, 'Jessica Ashley': 4, 'Cassie Geller': 13, 'The Other Woman': 1, 'Waiter In Drag': 0, 'Helena': 14, 'Policeman': 22, 'The Chorus Line': 2, 'The Assistant Director': 3, 'Charles Bing': 4, 'The Rabbi': 3, 'Photographer': 3, 'Mona': 98, 'Dennis Phillips': 8, 'Little Girl': 6, 'Second Girl': 1, 'Bandleader': 0, 'Ashley': 1, 'Fat Girl': 1, 'Gert': 3, 'Front Desk Clerk': 2, 'Woman At The Wedding': 3, 'Man At The Wedding': 3, 'Anxious Wedding Guest': 4, 'Airline Employee': 4, 'Dr. Long': 35, 'Kristen': 4, 'Tim': 17, 'Mr. Franklin': 7, \"Bob (Chandler's coworker)\": 9, 'Kash': 7, 'Witch': 1, 'Clown': 1, 'Cowgirl': 1, 'Ballerina': 3, 'Eric': 60, 'Boy In The Cape': 5, \"Mrs. Verhoeven's Daughter\": 9, 'Brenda': 11, 'Stripper': 5, 'Hooker': 4, 'Stu': 5, 'Will Colbert': 48, 'Bobby Corso': 7, 'Trudie Styler': 12, 'Dr. Schiff': 8, 'Locksmith': 1, 'Man On Tv': 2, 'Woman On Tv': 3, 'Don': 11, 'Waiter No. 2': 2, 'Jim': 13, \"Mona's Date\": 3, 'Parker': 29, 'Aunt Lisa': 5, 'Uncle Dan': 1, 'The Interviewer': 24, 'Janine': 2, 'Ray': 6, 'Cashier': 6, 'The Food Critic': 3, 'The Cooking Teacher': 17, 'Katie (saleswoman)': 7, 'Julie Coreger': 7, 'Marc Coreger': 5, 'Evil Bitch': 6, 'Sick Bastard': 2, 'Woman Giving Birth': 1, 'Cliff': 19, 'Sid Goralnik': 2, 'Ms. Mckenna': 6, 'Mike Hannigan': 315, 'Mary Ellen': 4, 'Dr. Gettleman': 2, 'Sally': 2, 'Boy': 1, 'Hayley': 10, \"Hayley's Roommate\": 1, 'Ken': 5, 'Claudia': 3, 'Waiters': 2, 'Prospective Nanny': 4, 'Catherine': 3, 'Bitsy Hannigan': 16, 'Theodore': 8, 'Woman At Door': 2, 'Amy Green': 123, 'Jo Lynn': 0, 'Bill': 10, 'Kevin': 2, 'Wendy': 15, 'Others': 3, 'Gavin Mitchell': 62, 'Extra': 1, 'Another Extra': 1, 'Molly': 17, 'Heather': 1, 'Salon Girl': 2, 'Sonia': 4, 'Blonde Girl': 1, 'Michelle': 15, 'Her Friend': 1, 'Steve': 15, 'Waiter #2': 1, 'Intern': 5, 'Lennart': 33, 'Producer #1': 1, 'Lowell (mugger)': 7, 'Boss': 5, 'Handyman': 2, 'Strange Man': 1, 'Manny': 8, 'Kori': 7, 'Racel': 1, 'Message': 2, 'Second Message': 2, 'Olivia': 6, 'Chase Lassiter': 1, '1st Customer': 0, 'Chandlers': 1, 'Charlie Wheeler': 184, 'Professor Spafford': 5, 'Jane': 0, 'Kyle Lowder': 1, 'Matthew Ashford': 2, 'Bitter Lady': 1, 'Dirk': 3, 'Bitter Woman': 1, 'Doctor Connelly': 5, 'Professor Sherman': 1, 'Shop Assistant': 0, 'Zack': 20, 'Jeanette': 1, 'Man With A Bow Tie': 2, 'Alexandra Steele': 0, 'Jarvis Oberblau': 1, 'Paleontologist': 1, 'Professore Clerk': 1, 'Precious': 11, 'Colleen': 9, 'Owen': 10, 'Assistant': 10, 'Amanda Buffamonteezi': 14, 'Glenda': 1, 'Emma': 1, 'Benjamin Hobart': 36, 'Dr. Li': 2, 'Dr. Biely': 2, 'Charity Guy': 17, 'Laura': 15, 'Agency Guy': 10, 'Erica': 65, 'Adoption Agency Guy': 1, 'Missy Goldberg': 10, 'Donny Osmond': 9, 'Gene': 27, 'Henrietta': 1, 'Adrienne': 2, \"Mike's Mother\": 1, \"Mike's Father\": 2, \"Mike's Mom\": 2, \"Mike's Dad\": 1, 'Tape': 1, 'Casting Assistant': 1, 'Mr. Campbell': 10, 'Realtor': 2, 'Mackenzie': 11, 'Rita': 3, 'Lady': 4, 'Jennifer Aniston': 0, 'Gate Attendant #1': 3, 'Passenger #1': 8, 'Air Stewardess': 7, 'Passenger #2': 3, 'Passenger #3': 1, 'Gate Attendant #2': 5}\n"
     ]
    }
   ],
   "source": [
    "out_degrees = dict(G.out_degree)\n",
    "print(out_degrees)\n"
   ]
  },
  {
   "cell_type": "code",
   "execution_count": 41,
   "id": "4c1569c5",
   "metadata": {},
   "outputs": [
    {
     "name": "stdout",
     "output_type": "stream",
     "text": [
      "{'Joey Tribbiani': 0.11283519639878972, 'Monica Geller': 0.1134500759232524, 'Chandler Bing': 0.1145352324808736, 'Phoebe Buffay': 0.10206929426008514, 'Ross Geller': 0.12561115738701217, 'Rachel Green': 0.12684259753919158, 'Waitress': 0.0003062074066644528, 'Paul the Wine Guy': 0.00044553270156488567, 'Priest On Tv': 0.00024224564880034354, 'Franny': 0.00029277367765869703, 'Customer': 0.0004845752401603149, 'Marsha': 0.0002684196840180484, 'Carol Willick': 0.002690327530697601, 'Judy Geller': 0.002515060201491984, 'Susan Bunch': 0.001468496313041046, 'Barry Farber': 0.0008987249308190228, 'Robbie': 0.0002859034534336162, 'Bernice': 0.0002950081973502544, 'Dr. Oberman': 0.00026801595849931705, 'Paula': 0.00029277367765869703, 'Alan': 0.0002677907275840713, 'The Guys': 0.0003569457319822747, 'Lizzy': 0.00035716350819903187, 'Leslie': 0.0004211840525556916, 'Guys': 0.0002773144535313947, 'Kiki': 0.0003776419862813504, 'Joanne': 0.0003606610766269474, 'Receptionist': 0.0007561862815249741, 'Pizza Guy': 0.0003308724319103636, 'Both': 0.00045689642021669904, 'Kid': 0.0003275617863720352, 'Angela Delveccio': 0.0004099950232800368, 'Janice Litman Goralnik': 0.002841727823812992, 'Woman': 0.001890191788176448, 'Bob': 0.00031936962003277736, 'Aurora': 0.0005457419245821635, 'Director': 0.0010097186775762605, 'Jill Goodacre': 0.00034324101736338275, 'Mr. Heckles': 0.000749695541608377, 'Paolo': 0.0005381291114395214, 'Shelley': 0.00035587652035927583, 'Aunt Lillian': 0.0003217906565984193, 'Nurse Sizemore': 0.0003928943650378565, 'Andrea': 0.0002551230579354728, 'Lowell': 0.0003179700113715967, 'Terry': 0.00047372253880418084, 'Guy': 0.001090039015577483, 'Girl': 0.0005648756468830632, 'Max': 0.00038335039715345625, 'David': 0.0017651775393197834, 'Sandy': 0.0006165888571338438, 'Bobby Rush': 0.000591372808403959, 'Dick Clark': 0.00024215699339623844, 'Jay Leno': 0.00030383911619075795, 'Nora Tyler Bing': 0.00091464509242969, 'Coma Guy': 0.00031841584554663266, \"Phoebe's Assistant\": 0.00026769263993015665, 'Roger': 0.0005315630575124984, 'Joey Tribbiani Sr.': 0.000527744460521599, 'Ronni Rapalono': 0.0004919325979197733, 'Gloria Tribbiani': 0.0003332683886434273, 'Lorraine': 0.00030600022694468804, 'Kristin': 0.00029387649648114904, 'Fireman No. 2': 0.0004323541747750007, 'Fireman No. 1': 0.0004884359016062801, 'Fireman No. 3': 0.0006709916346344238, 'Mrs. Tedlock': 0.00024215699339623844, 'Celia': 0.0003073178776357514, 'Steve (drug addict)': 0.0004832465029713991, 'Ursula': 0.000344217370567753, 'Teacher': 0.0003495687590169275, 'Helen': 0.0002716091337470937, 'Nina Bookbinder': 0.00038114752635106183, 'Mr. Douglas': 0.0003986298822750085, 'Frank Buffay Jr.': 0.002513672742726928, 'Jamie': 0.00035787331690956996, 'Soothing Male Voice': 0.00025653048336405943, 'Dr. Mitchell': 0.0004485142223271569, 'Dr. Rosen': 0.0005109079441550113, \"Phoebe's Friends\": 0.00024228569218021404, 'Aunt Iris': 0.0002803107254835528, 'Intercom': 0.00033765088121840336, 'Luisa Gianetti': 0.0004287967147832854, 'Woman No. 1': 0.0003062661931570033, 'Mindy Hunter': 0.0005876638405502111, 'Danielle': 0.00028006350238391755, 'Fake Monica': 0.0004445789270787409, 'Dr. Baldhara': 0.0002943518130965171, 'Announcement': 0.00024228569218021404, 'Casting Director No. 1': 0.00033808702862828474, 'Actor': 0.0005168946344066905, 'Casting Director No. 2': 0.0002554582149611159, 'Ethan': 0.0005331319892404332, 'Santos': 0.0009914778300542798, 'Gerston': 0.0006619895394363315, 'Petrie': 0.00024215699339623844, 'Dr. Franzblau': 0.00045108976190686616, 'Lydia': 0.00047550676848528354, 'Melanie': 0.0003069988047981646, 'Flight Attendant': 0.0003583430522281027, 'Man': 0.0014586045641690891, \"Carl (Rachel's date)\": 0.0002806600301395741, 'Julie': 0.0007930118981068693, 'Paulo': 0.0002682178212586827, 'Annabelle': 0.000381820583619553, 'Hombre Man': 0.0005315095323925277, 'Store Guy': 0.00032994713449801204, 'Mr. Treeger': 0.0009115461507199708, 'Buddy Boyles': 0.00025489608625201384, 'Alison': 0.00024215699339623844, 'Stranger': 0.000293142282400336, 'Duncan': 0.0004848055259977184, 'Old Woman': 0.00024248755493957975, 'Jade': 0.00041938459688208225, 'Waiter': 0.0012778007509720323, 'Machine': 0.0003350290469776874, 'Steven Fisher': 0.00029308930474626106, 'Caroline': 0.00029336472394879496, 'Doctor': 0.0004892245149971838, 'Girl 1 On Bus': 0.00024215699339623844, 'Girl 2 On Bus': 0.00024248985268073063, 'Girl 1': 0.0002934179610162296, 'Girl 2': 0.00025512535567662366, 'Stephanie Schiffer': 0.0003954561135386378, 'Transit Authority Guy': 0.00024215699339623844, 'Together': 0.00024228569218021404, 'Michael': 0.00040765970800031907, 'Mr. Ratstatter': 0.0004319284896270706, 'Radio': 0.0003994067723797569, 'Gunther': 0.0016670573181764002, 'Gang': 0.0003064893561835595, 'Grandmother': 0.0004700061592816231, 'Russ': 0.000517019531479507, 'Estelle Leonard': 0.0006612033294141732, 'Mrs. Wallace': 0.00024248985268073063, 'Sandra Green': 0.0012813720809063472, 'Mr. Adelman': 0.0003188709028594259, 'Minister': 0.00046628217035296767, 'Rob': 0.0004209845170983751, 'Erica Ford': 0.0005531511865039461, 'Dean Lipson': 0.0002943518130965171, 'Kids': 0.0002677340089802103, 'Janitor': 0.000372148200331923, 'Tv Doctor': 0.00024248985268073063, 'Security Guard': 0.0002810724192108696, 'Trainer': 0.00024224564880034354, \"Director's Assistant\": 0.00032689704479456886, 'Susie Moss': 0.000779622114642401, 'Jean-Claude Van Damme': 0.0003824867426957401, 'Interviewer': 0.0005659923570354881, 'Gail': 0.0002547924963921315, 'Roy': 0.0005480141024152756, 'Chip Matthews': 0.0004471799646615221, 'Richard Burke': 0.003755449573244075, 'Delivery Guy': 0.00028107701469317145, 'Friend': 0.00026822952494627756, \"Joey's Co-Star\": 0.0005420736645719645, 'Tattoo Artist': 0.00024228569218021404, 'Producer': 0.00028057829751982, 'Eddie Menuek': 0.001035122793658811, 'Dr. Drake Ramoray': 0.002552516594130578, 'Amber': 0.0008093595585486384, 'Tilly': 0.00033466031975271923, 'Dr. Horton': 0.0003948836384364688, 'Casting Guy': 0.0002813949395218863, 'Mover': 0.0002684196840180484, 'Ben Geller': 0.0011390119182836003, 'Ernie': 0.0002550498939600827, 'Big Bully': 0.0005469493344352898, 'Little Bully': 0.0005269195502572877, 'Mrs. Buffay': 0.00031897230410378853, 'Leonard Green': 0.0013940000163077731, \"Girl's Voice\": 0.00024215699339623844, 'Scott Alexander': 0.00028106208023739415, 'Ryan': 0.0006384614054946276, 'Jeannie': 0.0002554582149611159, 'Wedding Planner': 0.00024224564880034354, 'Mr. Wineburg': 0.000710031886510455, 'Mrs. Wineburg': 0.000535006844593866, 'Best Man': 0.00025521171333957787, 'Jack Geller': 0.0020029738224429765, \"Woman's Voice\": 0.00024248985268073063, 'Michelle Burke': 0.00024217192785201574, 'Sherman Whitfield': 0.00030566506991904494, 'Malcom': 0.0004082203153185065, 'Host': 0.00028098661852085313, 'Mike': 0.00044019480125047757, 'Jasmine': 0.0003330481439548544, 'Isabella Rosselini': 0.0003462160712534544, 'Eric (photographer)': 0.0003370019541941316, 'Friend No. 1': 0.00034714953628377644, 'Friend No. 2': 0.0002804181240003379, 'Her Friends': 0.00022952149040034541, 'Matress King': 0.00024215699339623844, 'Student': 0.0003073293663415059, 'Jester': 0.0002681086524127862, 'Margha': 0.000370171724295328, 'Sarah Tuttle': 0.0003591821357926887, 'Leader': 0.0002943518130965171, 'Mr. Kaplan': 0.00030586644080033413, \"Joey's Sisters\": 0.00025512535567662366, 'Cookie Tribbiani': 0.00026801825624046794, 'Sister 1': 0.00024215699339623844, \"Joey's Grandmother\": 0.00028006350238391755, \"Joey's Sister\": 0.00029269900537981064, 'Mary-Angela': 0.0002547924963921315, 'Mary-Theresa': 0.00024248985268073063, 'Mark Robinson': 0.0008416254502124394, 'Jeannine': 0.0002789253870442922, 'Julio (poet)': 0.000368676302368719, 'Quartet': 0.0011030928693914201, 'The Bass Barber': 0.0006216824157826172, 'Bass Singer': 0.00042560195309148134, 'Clerk': 0.0003186433742030293, 'Robert Bobby': 0.00043450293284827185, \"Richard's Date\": 0.00030352887804602354, 'Singer': 0.00026801825624046794, 'Ginger': 0.0003685120233551688, 'Lecturer': 0.00024248755493957975, 'Issac': 0.0003784494911438745, 'Chloe': 0.000539389388650906, 'Mischa': 0.0003822368544459759, 'Sergei': 0.00034748112027830464, 'Sophie': 0.00039340150580939343, 'The Girls': 0.0005017716423648157, 'Alice Knight': 0.0007177330615607674, 'Peter Becker': 0.0017259881796429515, 'Secretary': 0.0002451254100026056, 'Employee': 0.0002451254100026056, 'Hypnosis Tape': 0.00024248985268073063, 'The Director': 0.0012005140032027054, 'Kate Miller': 0.0011207619081770135, 'Spokeswoman': 0.0002607293296048659, 'Joanna': 0.0013363443527732413, 'Lauren': 0.000522062785520487, 'Anchorwoman': 0.00024248985268073063, 'Hold Voice': 0.000280237004535225, 'Tommy': 0.000543746828638799, 'Cailin': 0.0003213872894261522, 'Stage Manager': 0.0002554582149611159, 'Vince': 0.0004744433224368596, 'Jason': 0.00043309244189205706, 'Dr. Rhodes': 0.0005270011938285265, 'Dr. Johnson': 0.0003042011451164265, \"Pete's Mom\": 0.00024217192785201574, 'Fireman': 0.0002547217554669894, 'Guru Saj': 0.0003851165626123083, 'Robin Williams': 0.00037840142721122234, 'Billy': 0.0014550990401094857, 'Robin': 0.001122801111265607, 'Doug': 0.0009488207064726697, 'Hoshi': 0.0002830767223576166, 'Bonnie': 0.0006437069121900234, 'Phil': 0.00039016588675445604, 'Stevens': 0.00028351436843035817, 'Announcer': 0.0002807824580203366, 'Referee': 0.00022952149040034541, 'Tv Announcer': 0.00026776085867251674, 'Phoebe Abbott': 0.0008549673776139091, 'Ursula Buffay': 0.0010200779746581483, 'Tony': 0.00025512535567662366, 'Peter': 0.00024248985268073063, 'The Salesman': 0.0004756646811415233, 'Oven': 0.00024228569218021404, 'Gym Employee': 0.0002933601284664932, 'Rick Sanoven': 0.0003443993064191632, 'Bank Officer': 0.0004483206553863375, 'Ms. Lambert': 0.00024215699339623844, 'Mr. Simon': 0.0005349822430483805, 'Mrs. Potter': 0.0007103100284079438, 'Kathy': 0.0012451048006863667, 'Joshua Burgin': 0.0016304119244959264, \"Amanda (Ross' date)\": 0.00032028394217498574, 'Cheryl': 0.00041171240316507235, 'Mrs. Burkart': 0.00030587917242316066, 'Casey': 0.00025512535567662366, 'Voice': 0.00029830915627308125, 'Nurse': 0.0008147795691868231, 'Timothy Burke': 0.000571157022543772, 'Mr. Posner': 0.00025496980720034163, 'Mrs. Lynch': 0.0003443093774343136, 'Allesandro': 0.00035613962924524695, 'Drew': 0.000314194033956874, 'A Waiter': 0.00024248985268073063, 'The Waiter': 0.00042089104447485485, 'The Woman From Poughkeepsie': 0.00022952149040034541, 'The Conductor': 0.00043758061507609663, 'Kitchen Worker': 0.00025482236530368604, 'Woman On Train': 0.0002684196840180484, 'Smart Kid': 0.00024248985268073063, 'Tour Guide': 0.00029436100406112067, 'Older Scientist': 0.00025545361947881405, 'Another Tour Guide': 0.00024248755493957975, 'Another Scientist': 0.00024248755493957975, 'Dr. Zane': 0.00030610670107955726, \"Kathy's Co-Star\": 0.0002837185161026919, 'Stephen Waltham': 0.0007668282085185315, 'Emily Waltham': 0.0024633118641619917, 'The A.D': 0.0003073316640826568, 'The Cigarette Smoking Guy': 0.00024228569218021404, 'Charlton Heston': 0.0003462367509238125, 'The Cigarette Guy': 0.00024224564880034354, 'Devon': 0.0003958127912604158, 'Liam': 0.0002981671002415232, 'Ticket Counter Attendant': 0.00029284251287815235, 'Mrs. Chatracus': 0.00024224564880034354, 'The Doctor': 0.0006672979474960465, 'Ticket Agent': 0.00048570725540637394, 'Mrs. Burgin': 0.0003362602006129376, 'Mr. Burgin': 0.00031088047097487437, 'The Singing Man': 0.0002940711703581414, 'The Saleslady': 0.00029277367765869703, 'Sleep Clinic Worker': 0.00025512535567662366, 'Marjorie': 0.0002547924963921315, 'The Stripper': 0.0003922424448725232, 'Dressmaker': 0.00024375931732124846, 'The Vendor': 0.00028072922095290193, 'Fergie': 0.00028072922095290193, 'Housekeeper': 0.00030610670107955726, 'Andrea Waltham': 0.0006902572381822563, 'Felicity': 0.00029436330180227156, 'Drunk Man': 0.00024217192785201574, 'Passenger': 0.00030586644080033413, 'Gate Agent': 0.0002813857485572827, 'Air Hostess': 0.00025496980720034163, 'Dave': 0.00026769396560033976, 'Dr. Harad': 0.00044002017760012217, \"Joey's Doctor\": 0.0002813949395218863, 'Male Nurse': 0.00025496980720034163, 'Dan': 0.00031824491476726673, 'Delivery Room Nurse': 0.00024215699339623844, 'Stage Director': 0.00037139435977067727, 'Pbs Volunteer': 0.00029510203223289007, 'Gary Collins': 0.00024228569218021404, 'Hotel Clerk': 0.0002674429338438018, 'Danny': 0.0010044275969476582, 'Health Inspector': 0.00024217192785201574, 'Larry': 0.00048457924659533623, 'Tom': 0.00040739153895505306, 'The Housekeeper': 0.00022952149040034541, 'The Paramedic': 0.00022952149040034541, 'The Teacher': 0.0004463527471386303, 'Cynthia': 0.0002813949395218863, 'Dr. Ledbetter': 0.0004499445875673291, 'A Female Student': 0.00024228569218021404, 'The Man': 0.0003063840255554639, \"Danny's Sister\": 0.00024659806869752456, 'Krista': 0.00040430944715539853, 'Elizabeth Hornswoggle': 0.0002943518130965171, 'Kara': 0.0002961797403378058, 'Frank Buffay Sr.': 0.0005230981313373243, 'The Pastor': 0.00024228569218021404, 'The Casting Director': 0.0005666966119492106, 'Katie': 0.0003841650222434198, 'Steve Cera': 0.0005666356721903428, 'Party Guests': 0.00024248755493957975, 'Guest #1': 0.00024248755493957975, 'Guest #2': 0.00022952149040034541, 'Guest #3': 0.00022952149040034541, 'The Smoking Woman': 0.0003188709028594259, 'Cop': 0.00040809161653453086, 'Gary': 0.0014151302451922158, 'The Saleswoman': 0.0002813857485572827, \"Gary's Radio\": 0.00025579603549254643, 'The Old Man': 0.0002554582149611159, 'The Little Girl': 0.00024248985268073063, 'Mr. Zelner': 0.0008704781419873216, 'The Hot Girl': 0.0002684196840180484, 'Jen': 0.0002813857485572827, 'Kim': 0.001053794478893179, 'Nancy': 0.0003683560838326035, 'Kyle': 0.00032093980721801765, 'Raymond': 0.0002473578947639007, 'Delivery Girl': 0.00024215699339623844, 'Caitlin': 0.0005245480748465063, 'Grandma Tribbiani': 0.00030666364777252154, 'Answering Machine': 0.00025521401108072876, 'Woman No. 2': 0.000293142282400336, 'Dr. Miller': 0.0004074385451553357, 'Stanley': 0.00029436330180227156, 'The Grip': 0.0002554582149611159, 'The Husband': 0.00024248985268073063, 'A Casino Boss': 0.00022952149040034541, 'A Tourist': 0.00022952149040034541, 'The Croupier': 0.0004606554657504438, 'The Flight Attendant': 0.000267935871739576, 'Blackjack Dealer': 0.0002554582149611159, 'The Woman Dealer': 0.0002684265772415011, \"Joey's Hand Twin\": 0.0003851418377649682, 'A Drunken Gambler': 0.00024215699339623844, 'Drunken Gambler': 0.00024217192785201574, 'The Lurker': 0.00036166391997499573, 'The Security Guard': 0.00033128525169899483, 'The Attendant': 0.00024215699339623844, 'Attendant': 0.00024228569218021404, 'Croupler': 0.00025482236530368604, 'Hitchhiker': 0.00029354665980020525, 'Stephanie': 0.00024228569218021404, 'Karin': 0.00024228569218021404, 'Meg': 0.0003454553374687559, 'Russell': 0.00038463045259268496, 'The Potential Roommate': 0.00032030002636304205, 'The Professor': 0.00025545361947881405, 'Casting Director #1': 0.0002554582149611159, 'Casting Director #2': 0.0002684265772415011, 'Casting Director #3': 0.00024248985268073063, 'A Crew Member': 0.0002792940762455038, 'Alex': 0.0002544077833229246, 'A Student': 0.00024248755493957975, 'Guy #1': 0.00024248985268073063, 'Guy #2': 0.0002684265772415011, 'The Porsche Owner': 0.0003073316640826568, 'Judge': 0.00037093866963574195, 'Passerby': 0.00024248985268073063, 'Janine Lecroix': 0.001313368443397609, 'Ralph Lauren': 0.0002792869750326166, 'Hillary': 0.0004369785230280947, 'Tall Guy': 0.0003118640048208623, 'Patron': 0.0002684265772415011, 'Customers': 0.00024248985268073063, 'Jill Green': 0.0010737881826131338, 'A Male Customer': 0.00024248985268073063, 'The Fan': 0.0003324517466413609, 'The Vampire': 0.0015288838231874513, 'Buffay': 0.0015288838231874513, \"Man's Voice\": 0.00024228569218021404, \"Another Man's Voice\": 0.00024228569218021404, \"Same Man's Voice\": 0.00024228569218021404, \"Monica's Boyfriend\": 0.0003060450303120199, 'Guy All The Way In The Back': 0.00024217192785201574, 'Dr. Wesley': 0.0003122025644184071, 'Hope': 0.0003122025644184071, 'Dr. Roger': 0.00030542411511036736, 'Arthur': 0.0002550498939600827, 'Jack': 0.00035716350819903187, \"Joey's Look-A-Like\": 0.00025514029013240096, \"Carl (Joey's lookalike)\": 0.0002684265772415011, 'The Instructor': 0.0003073178776357514, \"Janice's Voice\": 0.00022952149040034541, 'Elizabeth Stevens': 0.0013250790164272038, 'Burt': 0.0002697046118111135, 'Fireman #1': 0.0002931886915916198, 'Dana Keystone': 0.0003685120233551688, 'Fireman #2': 0.0002677740523600808, 'Mel': 0.00024248755493957975, 'Professor Feesen': 0.00024248755493957975, 'Sebastian': 0.000344070390735835, 'Eldad': 0.0002803444030520101, 'Patrick': 0.0002675716326277774, 'The Producer': 0.0003073316640826568, 'Wayne': 0.0004987903079118069, 'C.H.E.E.S.E.': 0.0007109805878615977, 'Paul Stevens': 0.0016502571635680788, 'The Dry Cleaner': 0.0003972935580432871, 'The Museum Official': 0.00030563034349957344, 'Female Clerk': 0.0002684265772415011, 'Male Jeweler': 0.0005496913775576374, 'Female Jeweler': 0.00024228569218021404, 'Mr. Thompson': 0.00035773988992187505, 'Zoe': 0.00024248755493957975, 'Sarah': 0.00047362569698692996, 'Second Dorm Guy': 0.00030060199716587776, 'First Dorm Guy': 0.00022952149040034541, \"Matire'D\": 0.0002538822139994028, 'Lisa': 0.00022952149040034541, 'Emil Alexander': 0.00024228569218021404, 'Mr. Bowmont': 0.00030635484856110837, 'Narrator': 0.00024248755493957975, 'Mac': 0.0005352943229453186, 'Hilda': 0.0002804181240003379, 'Tag Jones': 0.0020209169408189277, 'Nurse #2': 0.00022952149040034541, 'Nurse #1': 0.0004246145505368622, 'Dr. Stryker Remoray': 0.0002544077833229246, 'Melissa Warburton': 0.0006368547327197673, 'The Photographer': 0.0002547924963921315, 'The Cute Guy': 0.0003186433742030293, 'Whitney': 0.00037423253358404983, 'Julie Graff': 0.0002547924963921315, \"Joey's Date\": 0.00031956741472188074, 'Erin': 0.0005373393872030075, 'Male Student': 0.00024215699339623844, 'Female Student': 0.0004353545908471031, 'The Waitress': 0.00024217192785201574, 'The Colonel': 0.00024217192785201574, 'The Librarian': 0.00024248755493957975, 'The Head Librarian': 0.00025545361947881405, 'The Knocker': 0.00022952149040034541, 'The Woman': 0.0003956163969435811, \"Maitre D'\": 0.0003313330386482728, 'Male Guest': 0.00024215699339623844, 'Salesman': 0.0002684196840180484, 'The Wedding Guest': 0.00025482236530368604, 'The Second Guest': 0.00024217192785201574, 'Aunt Millie': 0.00025545361947881405, 'Smoke Detector': 0.00024228569218021404, 'A Disembodied Voice': 0.00024228569218021404, 'The Fireman': 0.00029334249929968866, 'Supervisor': 0.0003188709028594259, 'Earl': 0.0005613907366769302, 'The \"Hey Guy\" Guy': 0.00024228569218021404, 'Marge': 0.00024718808995976166, 'The Man In The Sportscar': 0.00024248755493957975, 'Jessica Lockhart': 0.0003545642629453191, 'Dina': 0.001151031596041387, 'Cecilia': 0.0010610838849238811, 'The Writer': 0.0002487075368155753, 'Fredrick': 0.00026715658375025305, 'Lisa Kudrow': 0.00022952149040034541, 'Matthew Perry': 0.0004246145505368622, 'Kristen Leigh': 0.0005796396990769359, 'Megan Bailey': 0.0004195392584002542, 'A Woman': 0.0002677340089802103, 'Lewis': 0.0003462160712534544, 'Ned Morse': 0.0003591821357926887, 'Jake': 0.0002807824580203366, 'The Presenter': 0.00024248985268073063, 'Jessica Ashley': 0.000268182373361114, 'Cassie Geller': 0.0004229625443392237, 'The Other Woman': 0.00024228569218021404, 'Waiter In Drag': 0.00024217192785201574, 'Helena': 0.0006684865991841312, 'Policeman': 0.0004979383474964871, 'The Chorus Line': 0.000282742553764637, 'The Assistant Director': 0.0002813949395218863, 'Charles Bing': 0.00033932711685655584, 'The Rabbi': 0.00028048501707251487, 'Photographer': 0.0002930749272634215, 'Mona': 0.0019699598388927013, 'Dennis Phillips': 0.000331291335663244, 'Little Girl': 0.0003243982098192995, 'Second Girl': 0.00025545361947881405, 'Bandleader': 0.00024248755493957975, 'Ashley': 0.00024248755493957975, 'Fat Girl': 0.00025545361947881405, 'Gert': 0.0002684196840180484, 'Front Desk Clerk': 0.00025482236530368604, 'Woman At The Wedding': 0.0003558851088457228, 'Man At The Wedding': 0.00035562413928446474, 'Anxious Wedding Guest': 0.0002813857485572827, 'Airline Employee': 0.00028007843683969485, 'Dr. Long': 0.0006782583158318884, 'Kristen': 0.0002943518130965171, 'Tim': 0.0004458303346889225, 'Mr. Franklin': 0.00034324101736338275, \"Bob (Chandler's coworker)\": 0.000330936075910831, 'Kash': 0.0003325288837788133, 'Witch': 0.00024224564880034354, 'Clown': 0.00024224564880034354, 'Cowgirl': 0.00024224564880034354, 'Ballerina': 0.00026769396560033976, 'Eric': 0.0010218433243880728, 'Boy In The Cape': 0.00030586644080033413, \"Mrs. Verhoeven's Daughter\": 0.0003586983235142163, 'Brenda': 0.00039390250499317316, 'Stripper': 0.00028039636166840977, 'Hooker': 0.00028074415540867923, 'Stu': 0.00029277367765869703, 'Will Colbert': 0.0008569649247112976, 'Bobby Corso': 0.00034398994191101604, 'Trudie Styler': 0.0003826919117587692, 'Dr. Schiff': 0.0003313147576003304, 'Locksmith': 0.0002466018225838935, 'Man On Tv': 0.0003574108092415667, 'Woman On Tv': 0.00040670663485025045, 'Don': 0.00038139570078125575, 'Waiter No. 2': 0.00030034083850938304, 'Jim': 0.0003954561135386378, \"Mona's Date\": 0.00026368215476744165, 'Parker': 0.0006248480383786126, 'Aunt Lisa': 0.0002804181240003379, 'Uncle Dan': 0.00024224564880034354, 'The Interviewer': 0.000576258621926982, 'Janine': 0.0002684265772415011, 'Ray': 0.0003073316640826568, 'Cashier': 0.0003195582237572771, 'The Food Critic': 0.0002681086524127862, 'The Cooking Teacher': 0.0004844377884060414, 'Katie (saleswoman)': 0.0003193163176180409, 'Julie Coreger': 0.0003569850689654898, 'Marc Coreger': 0.00036735332140123284, 'Evil Bitch': 0.0006114213649551066, 'Sick Bastard': 0.0004033835596516317, 'Woman Giving Birth': 0.00025550852534910487, 'Cliff': 0.0004872554520039174, 'Sid Goralnik': 0.0002552665654338145, 'Ms. Mckenna': 0.0003557273730207497, 'Mike Hannigan': 0.0047621941713959694, 'Mary Ellen': 0.0002810667852128853, 'Dr. Gettleman': 0.00025545361947881405, 'Sally': 0.00025545361947881405, 'Boy': 0.0002503933531795567, 'Hayley': 0.0003850526908466644, \"Hayley's Roommate\": 0.00024248985268073063, 'Ken': 0.00029269900537981064, 'Claudia': 0.0002674279993880245, 'Waiters': 0.0002554582149611159, 'Prospective Nanny': 0.0002806600301395741, 'Catherine': 0.00028072922095290193, 'Bitsy Hannigan': 0.00046047368509989487, 'Theodore': 0.0003679461201521469, 'Woman At Door': 0.00025496980720034163, 'Amy Green': 0.0017645585441522064, 'Jo Lynn': 0.00024215699339623844, 'Bill': 0.0004034954597639097, 'Kevin': 0.00027658207630428666, 'Wendy': 0.00046962239944376447, 'Others': 0.0002676853969559757, 'Gavin Mitchell': 0.0010152027463432565, 'Extra': 0.0004356335586965432, 'Another Extra': 0.00024248985268073063, 'Molly': 0.0004476142469263739, 'Heather': 0.00024224564880034354, 'Salon Girl': 0.0002684265772415011, 'Sonia': 0.0002813949395218863, 'Blonde Girl': 0.00024215699339623844, 'Michelle': 0.0006362046490988495, 'Her Friend': 0.00026556752477970865, 'Steve': 0.00043186763609040187, 'Waiter #2': 0.0002531279397700246, 'Intern': 0.000337423765285173, 'Lennart': 0.00085012423237047, 'Producer #1': 0.0002514148649006865, 'Lowell (mugger)': 0.000319476491137523, 'Boss': 0.000337423765285173, 'Handyman': 0.0002548811517962366, 'Strange Man': 0.00024236585887224617, 'Manny': 0.000330724990013708, 'Kori': 0.00031863113445827925, 'Racel': 0.00024248985268073063, 'Message': 0.0002552540544605993, 'Second Message': 0.0002548074308479088, 'Olivia': 0.0007256079345087155, 'Chase Lassiter': 0.00024224564880034354, '1st Customer': 0.00024217192785201574, 'Chandlers': 0.00024248755493957975, 'Charlie Wheeler': 0.0032095507447759196, 'Professor Spafford': 0.000311030033119208, 'Jane': 0.00024248985268073063, 'Kyle Lowder': 0.00024217192785201574, 'Matthew Ashford': 0.00025496980720034163, 'Bitter Lady': 0.0002547924963921315, 'Dirk': 0.0002684196840180484, 'Bitter Woman': 0.00024215699339623844, 'Doctor Connelly': 0.0002927288742913652, 'Professor Sherman': 0.00024248755493957975, 'Shop Assistant': 0.00024228569218021404, 'Zack': 0.0004823062225970926, 'Jeanette': 0.0002500185877873829, 'Man With A Bow Tie': 0.00025545361947881405, 'Alexandra Steele': 0.00024224564880034354, 'Jarvis Oberblau': 0.00025545361947881405, 'Paleontologist': 0.00024248755493957975, 'Professore Clerk': 0.00024248755493957975, 'Precious': 0.0003870667314058771, 'Colleen': 0.0004454738235313404, 'Owen': 0.00035587652035927583, 'Assistant': 0.000372148200331923, 'Amanda Buffamonteezi': 0.00042010684723832166, 'Glenda': 0.00025545361947881405, 'Emma': 0.00024224564880034354, 'Benjamin Hobart': 0.0011649000598917497, 'Dr. Li': 0.00028452094755026093, 'Dr. Biely': 0.00028452094755026093, 'Charity Guy': 0.0004469939208103051, 'Laura': 0.0004321269388095672, 'Agency Guy': 0.00038451390526518026, 'Erica': 0.001373226452442121, 'Adoption Agency Guy': 0.00024215699339623844, 'Missy Goldberg': 0.00035819045116266483, 'Donny Osmond': 0.0004537539936322094, 'Gene': 0.0006468230483481467, 'Henrietta': 0.00024248985268073063, 'Adrienne': 0.0002551230579354728, \"Mike's Mother\": 0.00024248985268073063, \"Mike's Father\": 0.0002554582149611159, \"Mike's Mom\": 0.00044837526322606257, \"Mike's Dad\": 0.00024236585887224617, 'Tape': 0.0002554582149611159, 'Casting Assistant': 0.00024248985268073063, 'Mr. Campbell': 0.0003838452946934405, 'Realtor': 0.0002549509383462505, 'Mackenzie': 0.00037217347548458297, 'Rita': 0.00026789426243198345, 'Lady': 0.0002802518132495912, 'Jennifer Aniston': 0.00024217192785201574, 'Gate Attendant #1': 0.0002804181240003379, 'Passenger #1': 0.0006003728044066929, 'Air Stewardess': 0.0007091756096157248, 'Passenger #2': 0.00047496690805527654, 'Passenger #3': 0.0002934095172261349, 'Gate Attendant #2': 0.0004288673421425493}\n"
     ]
    }
   ],
   "source": [
    "pagerank = nx.pagerank(G)\n",
    "print(pagerank)"
   ]
  },
  {
   "cell_type": "code",
   "execution_count": 45,
   "id": "0f721e1c",
   "metadata": {},
   "outputs": [
    {
     "name": "stdout",
     "output_type": "stream",
     "text": [
      "Joey Tribbiani has an out-degree of 7395 and a pagerank of 0.11284\n",
      "Monica Geller has an out-degree of 7621 and a pagerank of 0.11345\n",
      "Chandler Bing has an out-degree of 7702 and a pagerank of 0.11454\n",
      "Phoebe Buffay has an out-degree of 6797 and a pagerank of 0.10207\n",
      "Ross Geller has an out-degree of 8234 and a pagerank of 0.12561\n",
      "Rachel Green has an out-degree of 8470 and a pagerank of 0.12684\n"
     ]
    }
   ],
   "source": [
    "main_characters = [\"Joey Tribbiani\", \"Monica Geller\", \"Chandler Bing\", \"Phoebe Buffay\", \"Ross Geller\", \"Rachel Green\"]\n",
    "for character in main_characters:\n",
    "    print(f\"{character} has an out-degree of {out_degrees[character]} and a pagerank of {round(pagerank[character], 5)}\")"
   ]
  },
  {
   "cell_type": "markdown",
   "id": "fe9f1601",
   "metadata": {},
   "source": [
    "---\n",
    "\n",
    "**1.5 —** **/True or false:/** Considering your answer in **1.4**, are the following statements true or false? Justify your answers. \n",
    "\n",
    "A. \"If we inverted all  edges in the graph such that an edge $(u,v)$ becomes an edge $(v,u)$, the PageRank centrality would remain unchanged.\"\n",
    "\n",
    "B. \"If we removed all outgoing edges from Rachel Green, her PageRank centrality would remain unchanged.\"\n",
    "\n",
    "C. \"If a new node was introduced in the graph, with 1,000 outgoing edges towards each other node, but no incoming edge, it would have the highest PageRank centrality.\"\n"
   ]
  },
  {
   "cell_type": "markdown",
   "id": "abf413c9",
   "metadata": {},
   "source": [
    "A. False, a node has higer pagerank if it is pointed by important nodes so if you revert every edges the pagerank will change. \n",
    "\n",
    "B. False, since Rachel is pointing at some people whom are also pointing at her then when deleting her outgoing edges you will reduce the importance of the nodes she was pointing at. This will cause to reduce the importance of rachel, since in pagerank you are more important the more the people pointing at you are important.\n",
    "\n",
    "C. False. Again pagerank centrality depends on who is pointing at you. Since nobody is pointing at this new node its pagerank centrality will be close to 0.\n"
   ]
  },
  {
   "cell_type": "markdown",
   "id": "6e47355c",
   "metadata": {},
   "source": [
    "---\n",
    "\n",
    "**1.6 —** Next, you consider how these centrality metrics vary over the course of the seasons.\n",
    "\n",
    "A. Calculate the PageRank and out-degree centrality of the 6 main characters per episode, i.e., for each episode, create a graph containing only the utterances of that episode and calculate the PageRank centrality for this new graph. Print the PageRank and the out-degree of Rachel Green for the first episode of the first season.\n",
    "\n",
    "B. Considering the episode-level out-degree centrality of Phoebe Buffay in season 1 and in season 10, print the mean and the standard error of the mean.\n",
    "\n",
    "C. Create a single plot with 10 inches of width and 4 inches of height. The plot should contain two panels, containing the average PageRank centrality per season of Rachel Green and Ross Geller (Panel A), and the average out-degree per season of Rachel Green and Ross Geller (Panel B). Show 95% confidence intervals in your plot (calculated over the episodes in each season).\n",
    "\n",
    "D. **/Discuss:/** Does the plot support the hypothesis that Rachel was the show's protagonist in all 10 seasons? Explain why."
   ]
  },
  {
   "cell_type": "code",
   "execution_count": 67,
   "id": "9f67f756",
   "metadata": {},
   "outputs": [
    {
     "name": "stdout",
     "output_type": "stream",
     "text": [
      "236\n"
     ]
    }
   ],
   "source": [
    "all_episodes = df.episode.unique()\n",
    "print(len(all_episodes))"
   ]
  },
  {
   "cell_type": "code",
   "execution_count": 64,
   "id": "4e09a998",
   "metadata": {},
   "outputs": [],
   "source": [
    "# A\n",
    "edge_episode = nx.get_edge_attributes(G, 'episode')\n",
    "dict_edges_per_episode = {}\n",
    "\n",
    "for edge in edge_episode:\n",
    "    episode = edge_episode[edge]\n",
    "    if episode in dict_edges_per_episode.keys():\n",
    "        dict_edges_per_episode[episode].append(edge)\n",
    "    else:\n",
    "        dict_edges_per_episode[episode] = [edge]"
   ]
  },
  {
   "cell_type": "code",
   "execution_count": 72,
   "id": "ecc6d742",
   "metadata": {},
   "outputs": [],
   "source": [
    "dict_main_character = {}\n",
    "for character in main_characters:\n",
    "    dict_main_character[character] = {}\n",
    "\n",
    "for episode in all_episodes:\n",
    "\n",
    "    subgraph = G.edge_subgraph(dict_edges_per_episode[episode])\n",
    "    sub_out_degrees = dict(subgraph.out_degree)\n",
    "    sub_pagerank = nx.pagerank(subgraph)\n",
    "\n",
    "\n",
    "    for character in main_characters:\n",
    "        dict_main_character[character][episode] = {\"out_degree\": sub_out_degrees[character],\n",
    "                                                    \"pagerank\": sub_pagerank[character]}"
   ]
  },
  {
   "cell_type": "code",
   "execution_count": 75,
   "id": "551d498c",
   "metadata": {},
   "outputs": [
    {
     "name": "stdout",
     "output_type": "stream",
     "text": [
      "{'out_degree': 43, 'pagerank': 0.15312202321195537}\n"
     ]
    }
   ],
   "source": [
    "# A\n",
    "print(dict_main_character[\"Rachel Green\"][\"s01_e01\"])"
   ]
  },
  {
   "cell_type": "code",
   "execution_count": 85,
   "id": "f3d664d8",
   "metadata": {},
   "outputs": [],
   "source": [
    "# B \n",
    "dict_all_episode_each_season = {}\n",
    "for episode in all_episodes:\n",
    "    try:\n",
    "        dict_all_episode_each_season[episode[0:3]].append(episode)\n",
    "    except:\n",
    "        dict_all_episode_each_season[episode[0:3]] = [episode]"
   ]
  },
  {
   "cell_type": "code",
   "execution_count": 84,
   "id": "e64c08a7",
   "metadata": {},
   "outputs": [
    {
     "name": "stdout",
     "output_type": "stream",
     "text": [
      "Season 1  23.333333333333332 2.200680614964863\n",
      "Season 10  36.94444444444444 2.8092659732823404\n"
     ]
    }
   ],
   "source": [
    "import scipy.stats as stats\n",
    "\n",
    "list_out_degree_s01 = []\n",
    "for episode in dict_all_episode_each_season[\"s01\"]:\n",
    "    list_out_degree_s01.append(dict_main_character[\"Phoebe Buffay\"][episode][\"out_degree\"])\n",
    "\n",
    "list_out_degree_s10 = []\n",
    "for episode in dict_all_episode_each_season[\"s10\"]:\n",
    "    list_out_degree_s10.append(dict_main_character[\"Phoebe Buffay\"][episode][\"out_degree\"])\n",
    "\n",
    "print(\"Season 1 \", np.mean(list_out_degree_s01), stats.sem(list_out_degree_s01))\n",
    "print(\"Season 10 \", np.mean(list_out_degree_s10), stats.sem(list_out_degree_s10))\n"
   ]
  },
  {
   "cell_type": "code",
   "execution_count": 142,
   "id": "57ab3611",
   "metadata": {},
   "outputs": [],
   "source": [
    "#C\n",
    "means_pagerank = []\n",
    "confidence_intervals_pageranks_low = []\n",
    "confidence_intervals_pageranks_high = []\n",
    "\n",
    "means_degree = []\n",
    "confidence_intervals_degree_low = []\n",
    "confidence_intervals_degree_high = []\n",
    "\n",
    "for key in dict_all_episode_each_season:\n",
    "    vals_of_season_pagerank = [] \n",
    "    vals_of_season_degree = []\n",
    "    for episode in dict_all_episode_each_season[key]:\n",
    "        vals_of_season_pagerank.append(dict_main_character[\"Rachel Green\"][episode][\"pagerank\"])\n",
    "        vals_of_season_degree.append(dict_main_character[\"Rachel Green\"][episode][\"out_degree\"])\n",
    "        \n",
    "    means_pagerank.append(np.mean(vals_of_season_pagerank))\n",
    "    interval = stats.t.interval(0.95, len(vals_of_season_pagerank)-1, loc=np.mean(vals_of_season_pagerank), scale=stats.sem(vals_of_season_pagerank))\n",
    "    confidence_intervals_pageranks_low.append(interval[0])\n",
    "    confidence_intervals_pageranks_high.append(interval[1])\n",
    "\n",
    "    means_degree.append(np.mean(vals_of_season_degree))\n",
    "    interval = stats.t.interval(0.95, len(vals_of_season_degree)-1, loc=np.mean(vals_of_season_degree), scale=stats.sem(vals_of_season_degree))\n",
    "    confidence_intervals_degree_low.append(interval[0])\n",
    "    confidence_intervals_degree_high.append(interval[1])\n",
    "\n",
    "means_pagerank = np.array(means_pagerank)\n",
    "confidence_intervals_pageranks_low = np.array(confidence_intervals_pageranks_low)\n",
    "confidence_intervals_pageranks_high = np.array(confidence_intervals_pageranks_high)\n",
    "\n",
    "means_degree = np.array(means_degree)\n",
    "confidence_intervals_degree_low = np.array(confidence_intervals_degree_low)\n",
    "confidence_intervals_degree_high = np.array(confidence_intervals_degree_high)"
   ]
  },
  {
   "cell_type": "code",
   "execution_count": 140,
   "id": "b36ffc5b",
   "metadata": {},
   "outputs": [],
   "source": [
    "means_pagerank_Phoebe = []\n",
    "confidence_intervals_pageranks_low_Phoebe = []\n",
    "confidence_intervals_pageranks_high_Phoebe = []\n",
    "\n",
    "means_degree_Phoebe = []\n",
    "confidence_intervals_degree_low_Phoebe = []\n",
    "confidence_intervals_degree_high_Phoebe = []\n",
    "\n",
    "for key in dict_all_episode_each_season:\n",
    "    vals_of_season_pagerank = [] \n",
    "    vals_of_season_degree = []\n",
    "    for episode in dict_all_episode_each_season[key]:\n",
    "        vals_of_season_pagerank.append(dict_main_character[\"Phoebe Buffay\"][episode][\"pagerank\"])\n",
    "        vals_of_season_degree.append(dict_main_character[\"Phoebe Buffay\"][episode][\"out_degree\"])\n",
    "        \n",
    "    means_pagerank_Phoebe.append(np.mean(vals_of_season_pagerank))\n",
    "    interval = stats.t.interval(0.95, len(vals_of_season_pagerank)-1, loc=np.mean(vals_of_season_pagerank), scale=stats.sem(vals_of_season_pagerank))\n",
    "    confidence_intervals_pageranks_low_Phoebe.append(interval[0])\n",
    "    confidence_intervals_pageranks_high_Phoebe.append(interval[1])\n",
    "\n",
    "    means_degree_Phoebe.append(np.mean(vals_of_season_degree))\n",
    "    interval = stats.t.interval(0.95, len(vals_of_season_degree)-1, loc=np.mean(vals_of_season_degree), scale=stats.sem(vals_of_season_degree))\n",
    "    confidence_intervals_degree_low_Phoebe.append(interval[0])\n",
    "    confidence_intervals_degree_high_Phoebe.append(interval[1])\n",
    "\n",
    "means_pagerank_Phoebe = np.array(means_pagerank_Phoebe)\n",
    "confidence_intervals_pageranks_low_Phoebe = np.array(confidence_intervals_pageranks_low_Phoebe)\n",
    "confidence_intervals_pageranks_high_Phoebe = np.array(confidence_intervals_pageranks_high_Phoebe)\n",
    "\n",
    "means_degree_Phoebe = np.array(means_degree_Phoebe)\n",
    "confidence_intervals_degree_low_Phoebe = np.array(confidence_intervals_degree_low_Phoebe)\n",
    "confidence_intervals_degree_high_Phoebe = np.array(confidence_intervals_degree_high_Phoebe)"
   ]
  },
  {
   "cell_type": "code",
   "execution_count": 163,
   "id": "1b972b48",
   "metadata": {},
   "outputs": [
    {
     "data": {
      "image/png": "[encoded data removed]",
      "text/plain": [
       "<Figure size 1000x400 with 2 Axes>"
      ]
     },
     "metadata": {},
     "output_type": "display_data"
    }
   ],
   "source": [
    "fig, ax = plt.subplots(1, 2, figsize= (10, 4))\n",
    "ax[0].plot(list(range(1,11)), means_pagerank, label=\"Rachel\")\n",
    "ax[0].plot(list(range(1,11)), means_pagerank_Phoebe, label=\"Phoebe\")\n",
    "ax[0].fill_between(list(range(1,11)), (confidence_intervals_pageranks_low), (confidence_intervals_pageranks_high), color='b', alpha=.1)\n",
    "ax[0].fill_between(list(range(1,11)), (confidence_intervals_pageranks_low_Phoebe), (confidence_intervals_pageranks_high_Phoebe), color='orange', alpha=1)\n",
    "\n",
    "\n",
    "ax[1].plot(list(range(1,11)), means_degree, label=\"Rachel\")\n",
    "ax[1].fill_between(list(range(1,11)), (confidence_intervals_degree_low), (confidence_intervals_degree_high), color='b', alpha=.1)\n",
    "ax[1].plot(list(range(1,11)), means_degree_Phoebe, label=\"Phoebe\")\n",
    "ax[1].fill_between(list(range(1,11)), (confidence_intervals_degree_low_Phoebe), (confidence_intervals_degree_high_Phoebe), color='orange', alpha=1)\n",
    "\n",
    "plt.title(\"Plot of the changes in out degree and  Pagerank over the seasons\", loc=\"center\")\n",
    "ax[0].set(xlabel=\"seasons\", ylabel=\"mean pagerank\")\n",
    "ax[1].set(xlabel=\"seasons\",  ylabel=\"mean out-degree\")\n",
    "plt.legend()\n",
    "plt.show()\n"
   ]
  },
  {
   "cell_type": "markdown",
   "id": "94b0e5b3",
   "metadata": {},
   "source": [
    "---\n",
    "\n",
    "**1.7 —** **/True or false:/** Considering your answer in **1.6** are the following statements true or false? Justify your answer. \n",
    "\n",
    "\n",
    "A. \"In season 7, Rachel Green's episode-level PageRank and out-degree centrality are higher than Ross Geller's. This difference is statistically significant at the 0.05 significance level.\"\n",
    "\n",
    "B. \"Phoebe Buffay's out-degree grew between season 1 and season 10; this implies that other characters spoke less than her in season 10.\"\n",
    "\n",
    "C. \"Phoebe Buffay's PageRank was higher in season 10 than in season 1. This difference is statistically significant at the 0.05 significance level and suggests that the character gained importance over the course of the show.\"\n"
   ]
  },
  {
   "cell_type": "markdown",
   "id": "87e48217",
   "metadata": {},
   "source": [
    "A. True, you can see that in the plot that the two points in x = 7 in both graphs are not at the same place and they are not in each other confidence interval \n",
    "\n",
    "B. False. Not necessarly. Maybe there where juste more discussions at each new season. We also see that the out-degree of Rachel grew so it even more puts the doupt on this statement. \n",
    "\n",
    "C. True. Indeed, the Pagerank grew and it is significant at the 0.05 level since the point at season 10 and the point at season 1 are not in each others confidence interval. Also since pagerank is a metric for the importance of a node in a graph we can say that Phoeab gained importance over the course of the show"
   ]
  },
  {
   "cell_type": "markdown",
   "id": "84866967",
   "metadata": {},
   "source": [
    "## Part 2: The one about text similarity (40 pts)\n",
    "\n",
    "Next, you investigate how unique characters are by analyzing what they said throughout the 10 seasons."
   ]
  },
  {
   "cell_type": "markdown",
   "id": "176a69b8",
   "metadata": {},
   "source": [
    "**2.1 —** Load the dataframe `exam3.jsonl`. This dataframe is similar to `exam1.jsonl`, except:\n",
    "\n",
    "- It has an additional column called `tokens`, containing a sentence list. Each sentence is another list composed of tokens, e.g.,\n",
    "`[['There', \"'s\", 'nothing', 'to', 'tell', '!'], ['He', \"'s\", 'just', 'some', 'guy', 'I', 'work', 'with', '!']]`.\n",
    "- It has an additional column called `episode` containing a unique episode identifier.\n",
    "- It only contains utterances by Phoebe, Rachel, Ross, Joey, Monica, or Chandler (the main characters).\n",
    " \n",
    "Given this dataframe, you will create an episode-level word-frequency matrix for Chandler Bing, one of the main characters.\n",
    "\n",
    "A. Create a list $L$ containing all distinct tokens uttered by Chandler Bing throughout the 10 seasons, sorted in ascending order. Print the 10 first and last elements of the list. \n",
    "\n",
    "B. Create a matrix $X$ with $m$ rows and $n$ columns, where: $n$ is the number of tokens in the list $L$ that you just created, and $m$ is the number of episodes (236). Each position $X_{i,j}$ in this matrix should contain the number of times the character uttered the word $j$ in episode $i$. Print how many times Chandler uttered the token `joey` in the first episode of the first season, as well as the shape of the matrix $X$.\n",
    "\n",
    "C. Transform the matrix $X$ into a TF-IDF matrix $T$, combining the following formula (as seen in class):\n",
    "\n",
    "$$\\text{TF}(i,j) = \\text{number of times the $j$-th word occurs in the $i$-th episode}$$\n",
    "\n",
    "$$\\text{IDF}(j) =  \\log \\frac{\\text{number of episodes}}{\\text{number of episodes in which the $j$-th word occurs}}$$\n",
    "\n",
    "Print the value in the TF-IDF matrix corresponding to Chandler's utterance of the token `joey` in the first episode of the first season.\n",
    "\n",
    "D. **/Discuss:/** Some of the tokens (e.g., `joey`) reference other characters. How may these tokens help a classifier predict which character uttered a sentence?"
   ]
  },
  {
   "cell_type": "code",
   "execution_count": null,
   "id": "2e951338",
   "metadata": {},
   "outputs": [],
   "source": []
  },
  {
   "cell_type": "markdown",
   "id": "9b691ae5",
   "metadata": {},
   "source": [
    "---\n",
    "For the remainder of the task, you will use the TF-IDF matrix that we compute below. Note:\n",
    "- This matrix was calculated in a slightly different way: it considers only the 1000 tokens with the highest term frequency.\n",
    "- We provide three useful variables below (`X`, `y`, and `df_tfidf`). \n",
    "    - `X` is a matrix containing the TF-IDF values for the top 1000 tokens, where each row corresponds to a character in an episode. \n",
    "    - `y` indicates which character is responsible for the utterance. Each character has a corresponding number, e.g., 2 for Monica Geller; see dictionary below. \n",
    "    - `df_tfidf` is a dataframe combining `X` with other episode and utterance-level metadata."
   ]
  },
  {
   "cell_type": "code",
   "execution_count": 3,
   "id": "6e0aebac",
   "metadata": {},
   "outputs": [
    {
     "name": "stdout",
     "output_type": "stream",
     "text": [
      "X shape (51312, 1000)\n",
      "y shape (51312,)\n"
     ]
    },
    {
     "data": {
      "text/html": [
       "<div>\n",
       "<style scoped>\n",
       "    .dataframe tbody tr th:only-of-type {\n",
       "        vertical-align: middle;\n",
       "    }\n",
       "\n",
       "    .dataframe tbody tr th {\n",
       "        vertical-align: top;\n",
       "    }\n",
       "\n",
       "    .dataframe thead th {\n",
       "        text-align: right;\n",
       "    }\n",
       "</style>\n",
       "<table border=\"1\" class=\"dataframe\">\n",
       "  <thead>\n",
       "    <tr style=\"text-align: right;\">\n",
       "      <th></th>\n",
       "      <th>speaker</th>\n",
       "      <th>episode</th>\n",
       "      <th>0</th>\n",
       "      <th>1</th>\n",
       "      <th>2</th>\n",
       "      <th>3</th>\n",
       "      <th>4</th>\n",
       "      <th>5</th>\n",
       "      <th>6</th>\n",
       "      <th>7</th>\n",
       "      <th>...</th>\n",
       "      <th>990</th>\n",
       "      <th>991</th>\n",
       "      <th>992</th>\n",
       "      <th>993</th>\n",
       "      <th>994</th>\n",
       "      <th>995</th>\n",
       "      <th>996</th>\n",
       "      <th>997</th>\n",
       "      <th>998</th>\n",
       "      <th>999</th>\n",
       "    </tr>\n",
       "  </thead>\n",
       "  <tbody>\n",
       "    <tr>\n",
       "      <th>0</th>\n",
       "      <td>Monica Geller</td>\n",
       "      <td>s01_e01</td>\n",
       "      <td>0.0</td>\n",
       "      <td>0.0</td>\n",
       "      <td>0.0</td>\n",
       "      <td>0.0</td>\n",
       "      <td>0.0</td>\n",
       "      <td>0.0</td>\n",
       "      <td>0.0</td>\n",
       "      <td>0.0</td>\n",
       "      <td>...</td>\n",
       "      <td>0.0</td>\n",
       "      <td>0.0</td>\n",
       "      <td>0.0</td>\n",
       "      <td>0.0</td>\n",
       "      <td>0.0</td>\n",
       "      <td>0.0</td>\n",
       "      <td>0.0</td>\n",
       "      <td>0.0</td>\n",
       "      <td>0.0</td>\n",
       "      <td>0.0</td>\n",
       "    </tr>\n",
       "    <tr>\n",
       "      <th>1</th>\n",
       "      <td>Joey Tribbiani</td>\n",
       "      <td>s01_e01</td>\n",
       "      <td>0.0</td>\n",
       "      <td>0.0</td>\n",
       "      <td>0.0</td>\n",
       "      <td>0.0</td>\n",
       "      <td>0.0</td>\n",
       "      <td>0.0</td>\n",
       "      <td>0.0</td>\n",
       "      <td>0.0</td>\n",
       "      <td>...</td>\n",
       "      <td>0.0</td>\n",
       "      <td>0.0</td>\n",
       "      <td>0.0</td>\n",
       "      <td>0.0</td>\n",
       "      <td>0.0</td>\n",
       "      <td>0.0</td>\n",
       "      <td>0.0</td>\n",
       "      <td>0.0</td>\n",
       "      <td>0.0</td>\n",
       "      <td>0.0</td>\n",
       "    </tr>\n",
       "    <tr>\n",
       "      <th>2</th>\n",
       "      <td>Chandler Bing</td>\n",
       "      <td>s01_e01</td>\n",
       "      <td>0.0</td>\n",
       "      <td>0.0</td>\n",
       "      <td>0.0</td>\n",
       "      <td>0.0</td>\n",
       "      <td>0.0</td>\n",
       "      <td>0.0</td>\n",
       "      <td>0.0</td>\n",
       "      <td>0.0</td>\n",
       "      <td>...</td>\n",
       "      <td>0.0</td>\n",
       "      <td>0.0</td>\n",
       "      <td>0.0</td>\n",
       "      <td>0.0</td>\n",
       "      <td>0.0</td>\n",
       "      <td>0.0</td>\n",
       "      <td>0.0</td>\n",
       "      <td>0.0</td>\n",
       "      <td>0.0</td>\n",
       "      <td>0.0</td>\n",
       "    </tr>\n",
       "  </tbody>\n",
       "</table>\n",
       "<p>3 rows × 1002 columns</p>\n",
       "</div>"
      ],
      "text/plain": [
       "          speaker  episode    0    1    2    3    4    5    6    7  ...  990  \\\n",
       "0   Monica Geller  s01_e01  0.0  0.0  0.0  0.0  0.0  0.0  0.0  0.0  ...  0.0   \n",
       "1  Joey Tribbiani  s01_e01  0.0  0.0  0.0  0.0  0.0  0.0  0.0  0.0  ...  0.0   \n",
       "2   Chandler Bing  s01_e01  0.0  0.0  0.0  0.0  0.0  0.0  0.0  0.0  ...  0.0   \n",
       "\n",
       "   991  992  993  994  995  996  997  998  999  \n",
       "0  0.0  0.0  0.0  0.0  0.0  0.0  0.0  0.0  0.0  \n",
       "1  0.0  0.0  0.0  0.0  0.0  0.0  0.0  0.0  0.0  \n",
       "2  0.0  0.0  0.0  0.0  0.0  0.0  0.0  0.0  0.0  \n",
       "\n",
       "[3 rows x 1002 columns]"
      ]
     },
     "execution_count": 3,
     "metadata": {},
     "output_type": "execute_result"
    }
   ],
   "source": [
    "from sklearn.feature_extraction.text import TfidfVectorizer\n",
    "df_tfidf = pd.read_json(\"./data/exam3.jsonl\", lines=True)[[\"speaker\", \"episode\", \"text\"]]\n",
    "\n",
    "vectorizer = TfidfVectorizer(max_features=1000, stop_words=\"english\")\n",
    "X = vectorizer.fit_transform(df_tfidf.text).toarray()\n",
    "print(\"X shape\", X.shape)\n",
    "\n",
    "\n",
    "map_char_to_int = {\n",
    "'Chandler Bing': 0,\n",
    "'Joey Tribbiani': 1,\n",
    "'Monica Geller': 2,\n",
    "'Phoebe Buffay': 3,\n",
    "'Rachel Green': 4,\n",
    "'Ross Geller': 5\n",
    "}\n",
    "\n",
    "\n",
    "y = df_tfidf.speaker.apply(lambda x: map_char_to_int[x]).values\n",
    "print(\"y shape\", y.shape)\n",
    "\n",
    "df_tfidf = pd.concat([df_tfidf[[\"speaker\", \"episode\"]],  pd.DataFrame(X)], axis=1)\n",
    "\n",
    "df_tfidf.head(3)"
   ]
  },
  {
   "cell_type": "markdown",
   "id": "15f01045",
   "metadata": {},
   "source": [
    "--- "
   ]
  },
  {
   "cell_type": "markdown",
   "id": "76d6b6f1",
   "metadata": {},
   "source": [
    "**2.2 —** To compare characters, carry out a classification task. Train a decision tree classifier to predict which main character uttered a sentence..\n",
    "\n",
    "A. Split the dataset into training and test sets using sklearn `sklearn.model_selection.train_test_split` using parameters `test_size=0.3` and `random_state=42`, and using the default values for all other parameters.\n",
    "\n",
    "B. Train a decision tree classifier (`sklearn.tree.DecisionTreeClassifier`) using `random_state=42`, leaving all other parameters as their default.\n",
    "\n",
    "C. Compute the accuracy of your classifier and of a random baseline, i.e., a classifier that predicts a character uniformly at random. **/Discuss:/** Compare the two accuracies.\n",
    "\n",
    "\n",
    "D. Compute the confusion matrix of your classifier using `sklearn.metrics.confusion_matrix`. Normalize the confusion matrix such that all cells sum to 1.\n",
    "\n",
    "E. Plot an appropriate graphical representation of the confusion matrix.\n",
    "\n",
    "F. **/Discuss:/** Analyzing the confusion matrix, discuss:\n",
    "   - Which character is most distinct in the way they talk?\n",
    "   - Which two characters are the most similar in the way they talk?\n",
    "   - Which two characters are the least similar in the way they talk?\n"
   ]
  },
  {
   "cell_type": "code",
   "execution_count": null,
   "id": "03c8bf67",
   "metadata": {},
   "outputs": [],
   "source": []
  },
  {
   "cell_type": "markdown",
   "id": "1a158a88",
   "metadata": {},
   "source": [
    "---\n",
    "\n",
    "**2.3 —** **/Discuss:/** Last, you discuss the results obtained in **2.2** with a friend, who asks you some thought-provoking questions.\n",
    "\n",
    "A. Your friend proposes that you should create a measure of similarity between two characters in a given episode in a more direct way than what you've done in **2.2**.  Propose (but do not implement) said similarity metric.\n",
    "\n",
    "B. Your friend also suggests that your analysis might not truly capture how two characters differ. According to her, if people are in the same conversation, they might speak similarly simply because they are in the same social context. Propose (but do not implement) a way of creating a dataset where this confounder does not exist.\n",
    "\n",
    "C. Last, your friend complains about how you present your (normalized) confusion matrix. According to her, from reading the cells alone, it is unclear if the fraction of occurrences is higher or lower than what a random classifier would yield. Propose (but do not implement) a way of modifying the confusion matrix to address her concern.\n"
   ]
  },
  {
   "cell_type": "code",
   "execution_count": null,
   "id": "9d4253a5",
   "metadata": {},
   "outputs": [],
   "source": []
  },
  {
   "cell_type": "markdown",
   "id": "25c65d90",
   "metadata": {},
   "source": [
    "---"
   ]
  }
 ],
 "metadata": {
  "kernelspec": {
   "display_name": "Python 3 (ipykernel)",
   "language": "python",
   "name": "python3"
  },
  "language_info": {
   "codemirror_mode": {
    "name": "ipython",
    "version": 3
   },
   "file_extension": ".py",
   "mimetype": "text/x-python",
   "name": "python",
   "nbconvert_exporter": "python",
   "pygments_lexer": "ipython3",
   "version": "3.9.7"
  }
 },
 "nbformat": 4,
 "nbformat_minor": 5
}
