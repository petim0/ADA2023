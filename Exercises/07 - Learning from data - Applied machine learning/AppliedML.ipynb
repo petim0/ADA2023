{
 "cells": [
  {
   "cell_type": "markdown",
   "metadata": {},
   "source": [
    "## All you need is love… And a pet!\n",
    "\n",
    "<img src=\"img/dataset-cover.jpg\" width=\"920\">\n",
    "\n",
    "Here we are going to build a classifier to predict whether an animal from an animal shelter will be adopted or not (aac_intakes_outcomes.csv, available at: https://www.kaggle.com/aaronschlegel/austin-animal-center-shelter-intakes-and-outcomes/version/1#aac_intakes_outcomes.csv). You will be working with the following features:\n",
    "\n",
    "1. *animal_type:* Type of animal. May be one of 'cat', 'dog', 'bird', etc.\n",
    "2. *intake_year:* Year of intake\n",
    "3. *intake_condition:* The intake condition of the animal. Can be one of 'normal', 'injured', 'sick', etc.\n",
    "4. *intake_number:* The intake number denoting the number of occurrences the animal has been brought into the shelter. Values higher than 1 indicate the animal has been taken into the shelter on more than one occasion.\n",
    "5. *intake_type:* The type of intake, for example, 'stray', 'owner surrender', etc.\n",
    "6. *sex_upon_intake:* The gender of the animal and if it has been spayed or neutered at the time of intake\n",
    "7. *age_upon\\_intake_(years):* The age of the animal upon intake represented in years\n",
    "8. *time_in_shelter_days:* Numeric value denoting the number of days the animal remained at the shelter from intake to outcome.\n",
    "9. *sex_upon_outcome:* The gender of the animal and if it has been spayed or neutered at time of outcome\n",
    "10. *age_upon\\_outcome_(years):* The age of the animal upon outcome represented in years\n",
    "11. *outcome_type:* The outcome type. Can be one of ‘adopted’, ‘transferred’, etc."
   ]
  },
  {
   "cell_type": "code",
   "execution_count": 1,
   "metadata": {},
   "outputs": [],
   "source": [
    "import numpy as np\n",
    "import matplotlib.pyplot as plt\n",
    "import pandas as pd\n",
    "import scipy as sp\n",
    "from itertools import combinations \n",
    "import ast\n",
    "from sklearn.linear_model import LogisticRegression\n",
    "import seaborn as sn\n",
    "%matplotlib inline\n",
    "\n",
    "data_folder = './data/'"
   ]
  },
  {
   "cell_type": "markdown",
   "metadata": {},
   "source": [
    "### A) Load the dataset and convert categorical features to a suitable numerical representation (use dummy-variable encoding). \n",
    "- Split the data into a training set (80%) and a test set (20%). Pair each feature vector with the corresponding label, i.e., whether the outcome_type is adoption or not. \n",
    "- Standardize the values of each feature in the data to have mean 0 and variance 1.\n",
    "\n",
    "The use of external libraries is not permitted in part A, except for numpy and pandas. \n",
    "You can drop entries with missing values."
   ]
  },
  {
   "cell_type": "code",
   "execution_count": 42,
   "metadata": {},
   "outputs": [],
   "source": [
    "columns = ['animal_type', 'intake_year', 'intake_condition', 'intake_number', 'intake_type', 'sex_upon_intake', \\\n",
    "          'age_upon_intake_(years)', 'time_in_shelter_days', 'sex_upon_outcome', 'age_upon_outcome_(years)', \\\n",
    "          'outcome_type']\n",
    "original_data = pd.read_csv(data_folder+'aac_intakes_outcomes.csv', usecols=columns)"
   ]
  },
  {
   "cell_type": "code",
   "execution_count": 44,
   "metadata": {},
   "outputs": [
    {
     "data": {
      "text/html": [
       "<div>\n",
       "<style scoped>\n",
       "    .dataframe tbody tr th:only-of-type {\n",
       "        vertical-align: middle;\n",
       "    }\n",
       "\n",
       "    .dataframe tbody tr th {\n",
       "        vertical-align: top;\n",
       "    }\n",
       "\n",
       "    .dataframe thead th {\n",
       "        text-align: right;\n",
       "    }\n",
       "</style>\n",
       "<table border=\"1\" class=\"dataframe\">\n",
       "  <thead>\n",
       "    <tr style=\"text-align: right;\">\n",
       "      <th></th>\n",
       "      <th>outcome_type</th>\n",
       "      <th>sex_upon_outcome</th>\n",
       "      <th>age_upon_outcome_(years)</th>\n",
       "      <th>animal_type</th>\n",
       "      <th>intake_condition</th>\n",
       "      <th>intake_type</th>\n",
       "      <th>sex_upon_intake</th>\n",
       "      <th>age_upon_intake_(years)</th>\n",
       "      <th>intake_year</th>\n",
       "      <th>intake_number</th>\n",
       "      <th>time_in_shelter_days</th>\n",
       "    </tr>\n",
       "  </thead>\n",
       "  <tbody>\n",
       "    <tr>\n",
       "      <th>51135</th>\n",
       "      <td>Return to Owner</td>\n",
       "      <td>Neutered Male</td>\n",
       "      <td>0.082192</td>\n",
       "      <td>Dog</td>\n",
       "      <td>Normal</td>\n",
       "      <td>Stray</td>\n",
       "      <td>Intact Male</td>\n",
       "      <td>0.082192</td>\n",
       "      <td>2016</td>\n",
       "      <td>2.0</td>\n",
       "      <td>2.142361</td>\n",
       "    </tr>\n",
       "    <tr>\n",
       "      <th>48943</th>\n",
       "      <td>Transfer</td>\n",
       "      <td>Spayed Female</td>\n",
       "      <td>1.000000</td>\n",
       "      <td>Cat</td>\n",
       "      <td>Normal</td>\n",
       "      <td>Stray</td>\n",
       "      <td>Intact Female</td>\n",
       "      <td>1.000000</td>\n",
       "      <td>2016</td>\n",
       "      <td>1.0</td>\n",
       "      <td>5.712500</td>\n",
       "    </tr>\n",
       "    <tr>\n",
       "      <th>76680</th>\n",
       "      <td>Adoption</td>\n",
       "      <td>Neutered Male</td>\n",
       "      <td>4.000000</td>\n",
       "      <td>Dog</td>\n",
       "      <td>Normal</td>\n",
       "      <td>Stray</td>\n",
       "      <td>Intact Male</td>\n",
       "      <td>4.000000</td>\n",
       "      <td>2017</td>\n",
       "      <td>1.0</td>\n",
       "      <td>6.161806</td>\n",
       "    </tr>\n",
       "    <tr>\n",
       "      <th>76366</th>\n",
       "      <td>Euthanasia</td>\n",
       "      <td>Unknown</td>\n",
       "      <td>1.000000</td>\n",
       "      <td>Other</td>\n",
       "      <td>Normal</td>\n",
       "      <td>Wildlife</td>\n",
       "      <td>Unknown</td>\n",
       "      <td>1.000000</td>\n",
       "      <td>2017</td>\n",
       "      <td>1.0</td>\n",
       "      <td>0.715278</td>\n",
       "    </tr>\n",
       "    <tr>\n",
       "      <th>15096</th>\n",
       "      <td>Adoption</td>\n",
       "      <td>Unknown</td>\n",
       "      <td>0.328767</td>\n",
       "      <td>Bird</td>\n",
       "      <td>Injured</td>\n",
       "      <td>Stray</td>\n",
       "      <td>Unknown</td>\n",
       "      <td>0.246575</td>\n",
       "      <td>2014</td>\n",
       "      <td>1.0</td>\n",
       "      <td>5.363194</td>\n",
       "    </tr>\n",
       "  </tbody>\n",
       "</table>\n",
       "</div>"
      ],
      "text/plain": [
       "          outcome_type sex_upon_outcome  age_upon_outcome_(years) animal_type  \\\n",
       "51135  Return to Owner    Neutered Male                  0.082192         Dog   \n",
       "48943         Transfer    Spayed Female                  1.000000         Cat   \n",
       "76680         Adoption    Neutered Male                  4.000000         Dog   \n",
       "76366       Euthanasia          Unknown                  1.000000       Other   \n",
       "15096         Adoption          Unknown                  0.328767        Bird   \n",
       "\n",
       "      intake_condition intake_type sex_upon_intake  age_upon_intake_(years)  \\\n",
       "51135           Normal       Stray     Intact Male                 0.082192   \n",
       "48943           Normal       Stray   Intact Female                 1.000000   \n",
       "76680           Normal       Stray     Intact Male                 4.000000   \n",
       "76366           Normal    Wildlife         Unknown                 1.000000   \n",
       "15096          Injured       Stray         Unknown                 0.246575   \n",
       "\n",
       "       intake_year  intake_number  time_in_shelter_days  \n",
       "51135         2016            2.0              2.142361  \n",
       "48943         2016            1.0              5.712500  \n",
       "76680         2017            1.0              6.161806  \n",
       "76366         2017            1.0              0.715278  \n",
       "15096         2014            1.0              5.363194  "
      ]
     },
     "execution_count": 44,
     "metadata": {},
     "output_type": "execute_result"
    }
   ],
   "source": [
    "original_data.sample(5)"
   ]
  },
  {
   "cell_type": "code",
   "execution_count": 45,
   "metadata": {},
   "outputs": [
    {
     "data": {
      "text/plain": [
       "Adoption           33594\n",
       "Transfer           23799\n",
       "Return to Owner    14791\n",
       "Euthanasia          6244\n",
       "Died                 690\n",
       "Disposal             304\n",
       "Rto-Adopt            179\n",
       "Missing               46\n",
       "Relocate              15\n",
       "Name: outcome_type, dtype: int64"
      ]
     },
     "execution_count": 45,
     "metadata": {},
     "output_type": "execute_result"
    }
   ],
   "source": [
    "original_data['outcome_type'].value_counts()"
   ]
  },
  {
   "cell_type": "code",
   "execution_count": 46,
   "metadata": {},
   "outputs": [],
   "source": [
    "original_data.loc[original_data['outcome_type'] != 'Adoption', \"outcome_type\"] = 0\n",
    "original_data.loc[original_data['outcome_type'] == 'Adoption', \"outcome_type\"] = 1\n"
   ]
  },
  {
   "cell_type": "code",
   "execution_count": 48,
   "metadata": {},
   "outputs": [
    {
     "data": {
      "text/html": [
       "<div>\n",
       "<style scoped>\n",
       "    .dataframe tbody tr th:only-of-type {\n",
       "        vertical-align: middle;\n",
       "    }\n",
       "\n",
       "    .dataframe tbody tr th {\n",
       "        vertical-align: top;\n",
       "    }\n",
       "\n",
       "    .dataframe thead th {\n",
       "        text-align: right;\n",
       "    }\n",
       "</style>\n",
       "<table border=\"1\" class=\"dataframe\">\n",
       "  <thead>\n",
       "    <tr style=\"text-align: right;\">\n",
       "      <th></th>\n",
       "      <th>outcome_type</th>\n",
       "      <th>sex_upon_outcome</th>\n",
       "      <th>age_upon_outcome_(years)</th>\n",
       "      <th>animal_type</th>\n",
       "      <th>intake_condition</th>\n",
       "      <th>intake_type</th>\n",
       "      <th>sex_upon_intake</th>\n",
       "      <th>age_upon_intake_(years)</th>\n",
       "      <th>intake_year</th>\n",
       "      <th>intake_number</th>\n",
       "      <th>time_in_shelter_days</th>\n",
       "    </tr>\n",
       "  </thead>\n",
       "  <tbody>\n",
       "    <tr>\n",
       "      <th>21717</th>\n",
       "      <td>0</td>\n",
       "      <td>Spayed Female</td>\n",
       "      <td>5.000000</td>\n",
       "      <td>Dog</td>\n",
       "      <td>Injured</td>\n",
       "      <td>Stray</td>\n",
       "      <td>Intact Female</td>\n",
       "      <td>5.000000</td>\n",
       "      <td>2014</td>\n",
       "      <td>1.0</td>\n",
       "      <td>15.006250</td>\n",
       "    </tr>\n",
       "    <tr>\n",
       "      <th>23766</th>\n",
       "      <td>0</td>\n",
       "      <td>Neutered Male</td>\n",
       "      <td>6.000000</td>\n",
       "      <td>Dog</td>\n",
       "      <td>Normal</td>\n",
       "      <td>Public Assist</td>\n",
       "      <td>Neutered Male</td>\n",
       "      <td>6.000000</td>\n",
       "      <td>2015</td>\n",
       "      <td>1.0</td>\n",
       "      <td>10.963194</td>\n",
       "    </tr>\n",
       "    <tr>\n",
       "      <th>76590</th>\n",
       "      <td>0</td>\n",
       "      <td>Spayed Female</td>\n",
       "      <td>2.000000</td>\n",
       "      <td>Dog</td>\n",
       "      <td>Injured</td>\n",
       "      <td>Stray</td>\n",
       "      <td>Spayed Female</td>\n",
       "      <td>2.000000</td>\n",
       "      <td>2017</td>\n",
       "      <td>1.0</td>\n",
       "      <td>20.274306</td>\n",
       "    </tr>\n",
       "    <tr>\n",
       "      <th>79095</th>\n",
       "      <td>0</td>\n",
       "      <td>Neutered Male</td>\n",
       "      <td>2.000000</td>\n",
       "      <td>Cat</td>\n",
       "      <td>Normal</td>\n",
       "      <td>Stray</td>\n",
       "      <td>Neutered Male</td>\n",
       "      <td>2.000000</td>\n",
       "      <td>2018</td>\n",
       "      <td>1.0</td>\n",
       "      <td>0.044444</td>\n",
       "    </tr>\n",
       "    <tr>\n",
       "      <th>73815</th>\n",
       "      <td>1</td>\n",
       "      <td>Neutered Male</td>\n",
       "      <td>0.164384</td>\n",
       "      <td>Cat</td>\n",
       "      <td>Normal</td>\n",
       "      <td>Stray</td>\n",
       "      <td>Intact Male</td>\n",
       "      <td>0.164384</td>\n",
       "      <td>2017</td>\n",
       "      <td>1.0</td>\n",
       "      <td>4.133333</td>\n",
       "    </tr>\n",
       "  </tbody>\n",
       "</table>\n",
       "</div>"
      ],
      "text/plain": [
       "      outcome_type sex_upon_outcome  age_upon_outcome_(years) animal_type  \\\n",
       "21717            0    Spayed Female                  5.000000         Dog   \n",
       "23766            0    Neutered Male                  6.000000         Dog   \n",
       "76590            0    Spayed Female                  2.000000         Dog   \n",
       "79095            0    Neutered Male                  2.000000         Cat   \n",
       "73815            1    Neutered Male                  0.164384         Cat   \n",
       "\n",
       "      intake_condition    intake_type sex_upon_intake  \\\n",
       "21717          Injured          Stray   Intact Female   \n",
       "23766           Normal  Public Assist   Neutered Male   \n",
       "76590          Injured          Stray   Spayed Female   \n",
       "79095           Normal          Stray   Neutered Male   \n",
       "73815           Normal          Stray     Intact Male   \n",
       "\n",
       "       age_upon_intake_(years)  intake_year  intake_number  \\\n",
       "21717                 5.000000         2014            1.0   \n",
       "23766                 6.000000         2015            1.0   \n",
       "76590                 2.000000         2017            1.0   \n",
       "79095                 2.000000         2018            1.0   \n",
       "73815                 0.164384         2017            1.0   \n",
       "\n",
       "       time_in_shelter_days  \n",
       "21717             15.006250  \n",
       "23766             10.963194  \n",
       "76590             20.274306  \n",
       "79095              0.044444  \n",
       "73815              4.133333  "
      ]
     },
     "execution_count": 48,
     "metadata": {},
     "output_type": "execute_result"
    }
   ],
   "source": [
    "original_data.sample(5)"
   ]
  },
  {
   "cell_type": "code",
   "execution_count": 50,
   "metadata": {},
   "outputs": [
    {
     "data": {
      "text/plain": [
       "outcome_type                0\n",
       "sex_upon_outcome            1\n",
       "age_upon_outcome_(years)    0\n",
       "animal_type                 0\n",
       "intake_condition            0\n",
       "intake_type                 0\n",
       "sex_upon_intake             1\n",
       "age_upon_intake_(years)     0\n",
       "intake_year                 0\n",
       "intake_number               0\n",
       "time_in_shelter_days        0\n",
       "dtype: int64"
      ]
     },
     "execution_count": 50,
     "metadata": {},
     "output_type": "execute_result"
    }
   ],
   "source": [
    "original_data.isna().sum()"
   ]
  },
  {
   "cell_type": "code",
   "execution_count": 51,
   "metadata": {},
   "outputs": [
    {
     "name": "stdout",
     "output_type": "stream",
     "text": [
      "old data shape: (79672, 11)\n",
      "new data shape: (79671, 11)\n"
     ]
    }
   ],
   "source": [
    "print(f\"old data shape: {original_data.shape}\")\n",
    "original_data.dropna(inplace=True)\n",
    "print(f\"new data shape: {original_data.shape}\")"
   ]
  },
  {
   "cell_type": "code",
   "execution_count": 49,
   "metadata": {},
   "outputs": [],
   "source": [
    "def split_data_ratio(df, ratio=0.2):\n",
    "    new_df = df.copy()\n",
    "    indicies = np.random.permutation(new_df.index)\n",
    "    test_size = int(len(new_df)*ratio)\n",
    "\n",
    "    test_df = new_df.loc[indicies[:test_size]]\n",
    "    train_df = new_df.loc[indicies[test_size:]]\n",
    "\n",
    "    return train_df, test_df"
   ]
  },
  {
   "cell_type": "code",
   "execution_count": 53,
   "metadata": {},
   "outputs": [],
   "source": [
    "def standardise(df):\n",
    "    new_df = df.copy()\n",
    "    for col in new_df.columns:\n",
    "        if new_df[col].dtype == np.float64:\n",
    "            new_df[col] = (new_df[col] - new_df[col].mean()) / new_df[col].std()\n",
    "    return new_df"
   ]
  },
  {
   "cell_type": "code",
   "execution_count": 54,
   "metadata": {},
   "outputs": [],
   "source": [
    "standardised_data = standardise(original_data)\n"
   ]
  },
  {
   "cell_type": "code",
   "execution_count": 72,
   "metadata": {},
   "outputs": [],
   "source": [
    "dummy_var_df = pd.get_dummies(standardised_data, columns = ['sex_upon_outcome', \"animal_type\", \"intake_condition\", \"intake_type\", \"sex_upon_intake\"], \\\n",
    "               prefix=['S_out', \"animal_type\", \"intake_condition\", \"intake_type\", \"S_in\"])\n"
   ]
  },
  {
   "cell_type": "code",
   "execution_count": 73,
   "metadata": {},
   "outputs": [
    {
     "data": {
      "text/html": [
       "<div>\n",
       "<style scoped>\n",
       "    .dataframe tbody tr th:only-of-type {\n",
       "        vertical-align: middle;\n",
       "    }\n",
       "\n",
       "    .dataframe tbody tr th {\n",
       "        vertical-align: top;\n",
       "    }\n",
       "\n",
       "    .dataframe thead th {\n",
       "        text-align: right;\n",
       "    }\n",
       "</style>\n",
       "<table border=\"1\" class=\"dataframe\">\n",
       "  <thead>\n",
       "    <tr style=\"text-align: right;\">\n",
       "      <th></th>\n",
       "      <th>outcome_type</th>\n",
       "      <th>age_upon_outcome_(years)</th>\n",
       "      <th>age_upon_intake_(years)</th>\n",
       "      <th>intake_year</th>\n",
       "      <th>intake_number</th>\n",
       "      <th>time_in_shelter_days</th>\n",
       "      <th>S_out_Intact Female</th>\n",
       "      <th>S_out_Intact Male</th>\n",
       "      <th>S_out_Neutered Male</th>\n",
       "      <th>S_out_Spayed Female</th>\n",
       "      <th>S_out_Unknown</th>\n",
       "      <th>animal_type_Bird</th>\n",
       "      <th>animal_type_Cat</th>\n",
       "      <th>animal_type_Dog</th>\n",
       "      <th>animal_type_Other</th>\n",
       "      <th>intake_condition_Aged</th>\n",
       "      <th>intake_condition_Feral</th>\n",
       "      <th>intake_condition_Injured</th>\n",
       "      <th>intake_condition_Normal</th>\n",
       "      <th>intake_condition_Nursing</th>\n",
       "      <th>intake_condition_Other</th>\n",
       "      <th>intake_condition_Pregnant</th>\n",
       "      <th>intake_condition_Sick</th>\n",
       "      <th>intake_type_Euthanasia Request</th>\n",
       "      <th>intake_type_Owner Surrender</th>\n",
       "      <th>intake_type_Public Assist</th>\n",
       "      <th>intake_type_Stray</th>\n",
       "      <th>intake_type_Wildlife</th>\n",
       "      <th>S_in_Intact Female</th>\n",
       "      <th>S_in_Intact Male</th>\n",
       "      <th>S_in_Neutered Male</th>\n",
       "      <th>S_in_Spayed Female</th>\n",
       "      <th>S_in_Unknown</th>\n",
       "    </tr>\n",
       "  </thead>\n",
       "  <tbody>\n",
       "    <tr>\n",
       "      <th>0</th>\n",
       "      <td>0</td>\n",
       "      <td>2.709430</td>\n",
       "      <td>2.727926</td>\n",
       "      <td>2017</td>\n",
       "      <td>-0.278081</td>\n",
       "      <td>-0.387936</td>\n",
       "      <td>0</td>\n",
       "      <td>0</td>\n",
       "      <td>1</td>\n",
       "      <td>0</td>\n",
       "      <td>0</td>\n",
       "      <td>0</td>\n",
       "      <td>0</td>\n",
       "      <td>1</td>\n",
       "      <td>0</td>\n",
       "      <td>0</td>\n",
       "      <td>0</td>\n",
       "      <td>0</td>\n",
       "      <td>1</td>\n",
       "      <td>0</td>\n",
       "      <td>0</td>\n",
       "      <td>0</td>\n",
       "      <td>0</td>\n",
       "      <td>0</td>\n",
       "      <td>0</td>\n",
       "      <td>0</td>\n",
       "      <td>1</td>\n",
       "      <td>0</td>\n",
       "      <td>0</td>\n",
       "      <td>0</td>\n",
       "      <td>1</td>\n",
       "      <td>0</td>\n",
       "      <td>0</td>\n",
       "    </tr>\n",
       "    <tr>\n",
       "      <th>1</th>\n",
       "      <td>0</td>\n",
       "      <td>1.674963</td>\n",
       "      <td>1.690991</td>\n",
       "      <td>2014</td>\n",
       "      <td>1.914615</td>\n",
       "      <td>-0.371824</td>\n",
       "      <td>0</td>\n",
       "      <td>0</td>\n",
       "      <td>1</td>\n",
       "      <td>0</td>\n",
       "      <td>0</td>\n",
       "      <td>0</td>\n",
       "      <td>0</td>\n",
       "      <td>1</td>\n",
       "      <td>0</td>\n",
       "      <td>0</td>\n",
       "      <td>0</td>\n",
       "      <td>0</td>\n",
       "      <td>1</td>\n",
       "      <td>0</td>\n",
       "      <td>0</td>\n",
       "      <td>0</td>\n",
       "      <td>0</td>\n",
       "      <td>0</td>\n",
       "      <td>0</td>\n",
       "      <td>1</td>\n",
       "      <td>0</td>\n",
       "      <td>0</td>\n",
       "      <td>0</td>\n",
       "      <td>0</td>\n",
       "      <td>1</td>\n",
       "      <td>0</td>\n",
       "      <td>0</td>\n",
       "    </tr>\n",
       "    <tr>\n",
       "      <th>2</th>\n",
       "      <td>0</td>\n",
       "      <td>1.330141</td>\n",
       "      <td>1.345346</td>\n",
       "      <td>2014</td>\n",
       "      <td>4.107310</td>\n",
       "      <td>-0.375323</td>\n",
       "      <td>0</td>\n",
       "      <td>0</td>\n",
       "      <td>1</td>\n",
       "      <td>0</td>\n",
       "      <td>0</td>\n",
       "      <td>0</td>\n",
       "      <td>0</td>\n",
       "      <td>1</td>\n",
       "      <td>0</td>\n",
       "      <td>0</td>\n",
       "      <td>0</td>\n",
       "      <td>0</td>\n",
       "      <td>1</td>\n",
       "      <td>0</td>\n",
       "      <td>0</td>\n",
       "      <td>0</td>\n",
       "      <td>0</td>\n",
       "      <td>0</td>\n",
       "      <td>0</td>\n",
       "      <td>1</td>\n",
       "      <td>0</td>\n",
       "      <td>0</td>\n",
       "      <td>0</td>\n",
       "      <td>0</td>\n",
       "      <td>1</td>\n",
       "      <td>0</td>\n",
       "      <td>0</td>\n",
       "    </tr>\n",
       "    <tr>\n",
       "      <th>3</th>\n",
       "      <td>0</td>\n",
       "      <td>2.709430</td>\n",
       "      <td>2.727926</td>\n",
       "      <td>2014</td>\n",
       "      <td>-0.278081</td>\n",
       "      <td>-0.282802</td>\n",
       "      <td>0</td>\n",
       "      <td>0</td>\n",
       "      <td>1</td>\n",
       "      <td>0</td>\n",
       "      <td>0</td>\n",
       "      <td>0</td>\n",
       "      <td>0</td>\n",
       "      <td>1</td>\n",
       "      <td>0</td>\n",
       "      <td>0</td>\n",
       "      <td>0</td>\n",
       "      <td>0</td>\n",
       "      <td>1</td>\n",
       "      <td>0</td>\n",
       "      <td>0</td>\n",
       "      <td>0</td>\n",
       "      <td>0</td>\n",
       "      <td>0</td>\n",
       "      <td>1</td>\n",
       "      <td>0</td>\n",
       "      <td>0</td>\n",
       "      <td>0</td>\n",
       "      <td>0</td>\n",
       "      <td>0</td>\n",
       "      <td>1</td>\n",
       "      <td>0</td>\n",
       "      <td>0</td>\n",
       "    </tr>\n",
       "    <tr>\n",
       "      <th>4</th>\n",
       "      <td>0</td>\n",
       "      <td>4.778363</td>\n",
       "      <td>4.801796</td>\n",
       "      <td>2013</td>\n",
       "      <td>-0.278081</td>\n",
       "      <td>-0.399182</td>\n",
       "      <td>0</td>\n",
       "      <td>0</td>\n",
       "      <td>1</td>\n",
       "      <td>0</td>\n",
       "      <td>0</td>\n",
       "      <td>0</td>\n",
       "      <td>0</td>\n",
       "      <td>1</td>\n",
       "      <td>0</td>\n",
       "      <td>0</td>\n",
       "      <td>0</td>\n",
       "      <td>1</td>\n",
       "      <td>0</td>\n",
       "      <td>0</td>\n",
       "      <td>0</td>\n",
       "      <td>0</td>\n",
       "      <td>0</td>\n",
       "      <td>0</td>\n",
       "      <td>0</td>\n",
       "      <td>1</td>\n",
       "      <td>0</td>\n",
       "      <td>0</td>\n",
       "      <td>0</td>\n",
       "      <td>0</td>\n",
       "      <td>1</td>\n",
       "      <td>0</td>\n",
       "      <td>0</td>\n",
       "    </tr>\n",
       "  </tbody>\n",
       "</table>\n",
       "</div>"
      ],
      "text/plain": [
       "  outcome_type  age_upon_outcome_(years)  age_upon_intake_(years)  \\\n",
       "0            0                  2.709430                 2.727926   \n",
       "1            0                  1.674963                 1.690991   \n",
       "2            0                  1.330141                 1.345346   \n",
       "3            0                  2.709430                 2.727926   \n",
       "4            0                  4.778363                 4.801796   \n",
       "\n",
       "   intake_year  intake_number  time_in_shelter_days  S_out_Intact Female  \\\n",
       "0         2017      -0.278081             -0.387936                    0   \n",
       "1         2014       1.914615             -0.371824                    0   \n",
       "2         2014       4.107310             -0.375323                    0   \n",
       "3         2014      -0.278081             -0.282802                    0   \n",
       "4         2013      -0.278081             -0.399182                    0   \n",
       "\n",
       "   S_out_Intact Male  S_out_Neutered Male  S_out_Spayed Female  S_out_Unknown  \\\n",
       "0                  0                    1                    0              0   \n",
       "1                  0                    1                    0              0   \n",
       "2                  0                    1                    0              0   \n",
       "3                  0                    1                    0              0   \n",
       "4                  0                    1                    0              0   \n",
       "\n",
       "   animal_type_Bird  animal_type_Cat  animal_type_Dog  animal_type_Other  \\\n",
       "0                 0                0                1                  0   \n",
       "1                 0                0                1                  0   \n",
       "2                 0                0                1                  0   \n",
       "3                 0                0                1                  0   \n",
       "4                 0                0                1                  0   \n",
       "\n",
       "   intake_condition_Aged  intake_condition_Feral  intake_condition_Injured  \\\n",
       "0                      0                       0                         0   \n",
       "1                      0                       0                         0   \n",
       "2                      0                       0                         0   \n",
       "3                      0                       0                         0   \n",
       "4                      0                       0                         1   \n",
       "\n",
       "   intake_condition_Normal  intake_condition_Nursing  intake_condition_Other  \\\n",
       "0                        1                         0                       0   \n",
       "1                        1                         0                       0   \n",
       "2                        1                         0                       0   \n",
       "3                        1                         0                       0   \n",
       "4                        0                         0                       0   \n",
       "\n",
       "   intake_condition_Pregnant  intake_condition_Sick  \\\n",
       "0                          0                      0   \n",
       "1                          0                      0   \n",
       "2                          0                      0   \n",
       "3                          0                      0   \n",
       "4                          0                      0   \n",
       "\n",
       "   intake_type_Euthanasia Request  intake_type_Owner Surrender  \\\n",
       "0                               0                            0   \n",
       "1                               0                            0   \n",
       "2                               0                            0   \n",
       "3                               0                            1   \n",
       "4                               0                            0   \n",
       "\n",
       "   intake_type_Public Assist  intake_type_Stray  intake_type_Wildlife  \\\n",
       "0                          0                  1                     0   \n",
       "1                          1                  0                     0   \n",
       "2                          1                  0                     0   \n",
       "3                          0                  0                     0   \n",
       "4                          1                  0                     0   \n",
       "\n",
       "   S_in_Intact Female  S_in_Intact Male  S_in_Neutered Male  \\\n",
       "0                   0                 0                   1   \n",
       "1                   0                 0                   1   \n",
       "2                   0                 0                   1   \n",
       "3                   0                 0                   1   \n",
       "4                   0                 0                   1   \n",
       "\n",
       "   S_in_Spayed Female  S_in_Unknown  \n",
       "0                   0             0  \n",
       "1                   0             0  \n",
       "2                   0             0  \n",
       "3                   0             0  \n",
       "4                   0             0  "
      ]
     },
     "execution_count": 73,
     "metadata": {},
     "output_type": "execute_result"
    }
   ],
   "source": [
    "pd.set_option('display.max_columns', None)\n",
    "dummy_var_df.head()"
   ]
  },
  {
   "cell_type": "code",
   "execution_count": 66,
   "metadata": {},
   "outputs": [],
   "source": [
    "df_train, df_test = split_data_ratio(dummy_var_df)"
   ]
  },
  {
   "cell_type": "markdown",
   "metadata": {},
   "source": [
    "### B) Train a logistic regression classifier on your training set. Logistic regression returns probabilities as predictions, so in order to arrive at a binary prediction, you need to put a threshold on the predicted probabilities. \n",
    "- For the decision threshold of 0.5, present the performance of your classifier on the test set by displaying the confusion matrix. Based on the confusion matrix, manually calculate accuracy, precision, recall, and F1-score with respect to the positive and the negative class. "
   ]
  },
  {
   "cell_type": "code",
   "execution_count": 67,
   "metadata": {
    "collapsed": true,
    "jupyter": {
     "outputs_hidden": true
    }
   },
   "outputs": [],
   "source": [
    "y = df_train['outcome_type']\n",
    "X = df_train.drop(columns=['outcome_type'])"
   ]
  },
  {
   "cell_type": "code",
   "execution_count": 80,
   "metadata": {},
   "outputs": [
    {
     "data": {
      "text/plain": [
       "array([0, 0, 0, ..., 0, 1, 0])"
      ]
     },
     "execution_count": 80,
     "metadata": {},
     "output_type": "execute_result"
    }
   ],
   "source": [
    "y.to_numpy().astype(int)"
   ]
  },
  {
   "cell_type": "code",
   "execution_count": 82,
   "metadata": {},
   "outputs": [],
   "source": [
    "logistic = LogisticRegression()"
   ]
  },
  {
   "cell_type": "code",
   "execution_count": 83,
   "metadata": {},
   "outputs": [
    {
     "name": "stderr",
     "output_type": "stream",
     "text": [
      "/Applications/miniconda3/lib/python3.8/site-packages/sklearn/linear_model/_logistic.py:458: ConvergenceWarning: lbfgs failed to converge (status=1):\n",
      "STOP: TOTAL NO. of ITERATIONS REACHED LIMIT.\n",
      "\n",
      "Increase the number of iterations (max_iter) or scale the data as shown in:\n",
      "    https://scikit-learn.org/stable/modules/preprocessing.html\n",
      "Please also refer to the documentation for alternative solver options:\n",
      "    https://scikit-learn.org/stable/modules/linear_model.html#logistic-regression\n",
      "  n_iter_i = _check_optimize_result(\n"
     ]
    }
   ],
   "source": [
    "trained = logistic.fit(X, y.astype(int))"
   ]
  },
  {
   "cell_type": "code",
   "execution_count": 84,
   "metadata": {},
   "outputs": [],
   "source": [
    "y_pred_test = logistic.predict(df_test.drop(columns=['outcome_type']))"
   ]
  },
  {
   "cell_type": "code",
   "execution_count": 85,
   "metadata": {},
   "outputs": [],
   "source": [
    "confusion_matrix = pd.crosstab(df_test['outcome_type'], y_pred_test, rownames=['Actual'], colnames=['Predicted'])"
   ]
  },
  {
   "cell_type": "code",
   "execution_count": 88,
   "metadata": {},
   "outputs": [
    {
     "name": "stdout",
     "output_type": "stream",
     "text": [
      "Predicted     0     1\n",
      "Actual               \n",
      "0          7639  1539\n",
      "1          1428  5328\n"
     ]
    }
   ],
   "source": [
    "print(confusion_matrix)"
   ]
  },
  {
   "cell_type": "code",
   "execution_count": 87,
   "metadata": {},
   "outputs": [],
   "source": [
    "def calculate_metrics(confusion_matrix):\n",
    "    accuracy = (confusion_matrix[0][0] + confusion_matrix[1][1]) / confusion_matrix.sum().sum()\n",
    "    presicion = confusion_matrix[1][1] / (confusion_matrix[1][1] + confusion_matrix[0][1])\n",
    "    recall = confusion_matrix[1][1] / (confusion_matrix[1][1] + confusion_matrix[1][0])\n",
    "    f1 = 2 * (presicion * recall) / (presicion + recall)\n",
    "\n",
    "    return accuracy, presicion, recall, f1"
   ]
  },
  {
   "cell_type": "code",
   "execution_count": 94,
   "metadata": {},
   "outputs": [
    {
     "name": "stdout",
     "output_type": "stream",
     "text": [
      "accuracy: 0.81379440190787\n",
      "presicion: 0.7886323268206039\n",
      "recall: 0.7758846657929227\n",
      "f1: 0.7822065624311826\n"
     ]
    }
   ],
   "source": [
    "accuracy, presicion, recall, f1 = calculate_metrics(confusion_matrix)\n",
    "print(f\"accuracy: {accuracy}\")\n",
    "print(f\"presicion: {presicion}\")\n",
    "print(f\"recall: {recall}\")\n",
    "print(f\"f1: {f1}\")"
   ]
  },
  {
   "cell_type": "markdown",
   "metadata": {},
   "source": [
    "### C) Vary the value of the threshold in the range from 0 to 1 and visualize the value of accuracy, precision, recall, and F1-score (with respect to both classes) as a function of the threshold."
   ]
  },
  {
   "cell_type": "code",
   "execution_count": 100,
   "metadata": {
    "collapsed": true,
    "jupyter": {
     "outputs_hidden": true
    }
   },
   "outputs": [
    {
     "name": "stdout",
     "output_type": "stream",
     "text": [
      "For threshold 0.1, accuracy: 0.7115601857662859, presicion: 0.9807578448786264, recall: 0.5973674720519293, f1: 0.7424921559838639\n",
      "For threshold 0.2, accuracy: 0.7635245387222291, presicion: 0.9533747779751333, recall: 0.6510006064281383, f1: 0.7736936936936938\n",
      "For threshold 0.3, accuracy: 0.7890674030375298, presicion: 0.9261397276494967, recall: 0.686149797126878, f1: 0.7882834645669291\n",
      "For threshold 0.4, accuracy: 0.8200702899460274, presicion: 0.86101243339254, recall: 0.7510652033570046, f1: 0.8022894972760499\n",
      "For threshold 0.5, accuracy: 0.81379440190787, presicion: 0.7886323268206039, recall: 0.7758846657929227, f1: 0.7822065624311826\n",
      "For threshold 0.6, accuracy: 0.8003640015062131, presicion: 0.7251332149200711, recall: 0.7872408806042102, f1: 0.7549117805686109\n",
      "For threshold 0.7, accuracy: 0.7884398142337141, presicion: 0.6489046773238603, recall: 0.8144157532974178, f1: 0.7223000247137326\n",
      "For threshold 0.8, accuracy: 0.6945525291828794, presicion: 0.32978093546477205, recall: 0.8679392286716011, f1: 0.47795773892523863\n",
      "For threshold 0.9, accuracy: 0.6268984561315426, presicion: 0.1336589698046181, recall: 0.907537688442211, f1: 0.23300219326538507\n"
     ]
    }
   ],
   "source": [
    "thresholds = np.arange(1, 10)/10\n",
    "accuracies, presicions, recalls, f1s = [], [], [], []\n",
    "for i in thresholds:\n",
    "    y_pred_test = (logistic.predict_proba(df_test.drop(columns=['outcome_type']))[:,1] > i).astype(int)\n",
    "    confusion_matrix = pd.crosstab(df_test['outcome_type'], y_pred_test, rownames=['Actual'], colnames=['Predicted'])\n",
    "    accuracy, presicion, recall, f1 = calculate_metrics(confusion_matrix)\n",
    "    print(f\"For threshold {i}, accuracy: {accuracy}, presicion: {presicion}, recall: {recall}, f1: {f1}\")\n",
    "    accuracies.append(accuracy)\n",
    "    presicions.append(presicion)\n",
    "    recalls.append(recall)\n",
    "    f1s.append(f1)\n"
   ]
  },
  {
   "cell_type": "code",
   "execution_count": 105,
   "metadata": {},
   "outputs": [
    {
     "data": {
      "image/png": "[encoded data removed]",
      "text/plain": [
       "<Figure size 640x480 with 1 Axes>"
      ]
     },
     "metadata": {},
     "output_type": "display_data"
    }
   ],
   "source": [
    "plt.plot(thresholds, accuracies, label='accuracy')\n",
    "plt.plot(thresholds, presicions, label='presicion')\n",
    "plt.plot(thresholds, recalls, label='recall')\n",
    "plt.plot(thresholds, f1s, label='f1')\n",
    "plt.xlabel('threshold')\n",
    "plt.ylabel('metric')\n",
    "plt.title('Metrics for different thresholds')\n",
    "plt.legend()\n",
    "plt.show()"
   ]
  },
  {
   "cell_type": "markdown",
   "metadata": {},
   "source": [
    "### D) Plot in a bar chart the coefficients of the logistic regression sorted by their contribution to the prediction."
   ]
  },
  {
   "cell_type": "code",
   "execution_count": 110,
   "metadata": {
    "collapsed": true,
    "jupyter": {
     "outputs_hidden": true
    }
   },
   "outputs": [
    {
     "data": {
      "image/png": "[encoded data removed]",
      "text/plain": [
       "<Figure size 640x480 with 1 Axes>"
      ]
     },
     "metadata": {},
     "output_type": "display_data"
    }
   ],
   "source": [
    "indicies = np.argsort(logistic.coef_[0])\n",
    "plt.bar(X.columns[indicies], logistic.coef_[0][indicies], )\n",
    "plt.xticks(rotation=90)\n",
    "plt.title('Feature importance')\n",
    "plt.show()\n"
   ]
  },
  {
   "cell_type": "markdown",
   "metadata": {},
   "source": [
    "\n",
    "## Question 1: Which of the following metrics is most suitable when you are dealing with unbalanced classes?\n",
    "\n",
    "- a) F1 Score\n",
    "- b) Recall\n",
    "- c) Precision\n",
    "- d) Accuracy"
   ]
  },
  {
   "cell_type": "markdown",
   "metadata": {
    "collapsed": true,
    "jupyter": {
     "outputs_hidden": true
    }
   },
   "source": [
    "a)"
   ]
  },
  {
   "cell_type": "markdown",
   "metadata": {},
   "source": [
    "## Question 2: You are working on a binary classification problem. You trained a model on a training dataset and got the following confusion matrix on the test dataset. What is true about the evaluation metrics (rounded to the second decimal point):\n",
    "\n",
    "|            | Pred = NO|Pred=YES|\n",
    "|------------|----------|--------|\n",
    "| Actual NO  |    50    |   10   |\n",
    "| Actual YES |    5     |   100  |\n",
    "\n",
    "- a) Accuracy is 0.95\n",
    "- b) Accuracy is 0.85\n",
    "- c) False positive rate is 0.95\n",
    "- d) True positive rate is 0.95"
   ]
  },
  {
   "cell_type": "code",
   "execution_count": 113,
   "metadata": {
    "collapsed": true,
    "jupyter": {
     "outputs_hidden": true
    }
   },
   "outputs": [
    {
     "data": {
      "text/plain": [
       "0.9090909090909091"
      ]
     },
     "execution_count": 113,
     "metadata": {},
     "output_type": "execute_result"
    }
   ],
   "source": [
    "(50+100) / 165"
   ]
  },
  {
   "cell_type": "code",
   "execution_count": 120,
   "metadata": {},
   "outputs": [
    {
     "name": "stdout",
     "output_type": "stream",
     "text": [
      "0.16666666666666666\n"
     ]
    }
   ],
   "source": [
    "false_positive_rate = 10 / 60\n",
    "print(false_positive_rate)"
   ]
  },
  {
   "cell_type": "code",
   "execution_count": 119,
   "metadata": {},
   "outputs": [
    {
     "name": "stdout",
     "output_type": "stream",
     "text": [
      "0.9523809523809523\n"
     ]
    }
   ],
   "source": [
    "true_positive_rate = 100 / 105\n",
    "print(true_positive_rate)"
   ]
  },
  {
   "cell_type": "markdown",
   "metadata": {},
   "source": [
    "d) is the answer"
   ]
  }
 ],
 "metadata": {
  "kernelspec": {
   "display_name": "Python 3 (ipykernel)",
   "language": "python",
   "name": "python3"
  },
  "language_info": {
   "codemirror_mode": {
    "name": "ipython",
    "version": 3
   },
   "file_extension": ".py",
   "mimetype": "text/x-python",
   "name": "python",
   "nbconvert_exporter": "python",
   "pygments_lexer": "ipython3",
   "version": "3.8.10"
  },
  "varInspector": {
   "cols": {
    "lenName": 16,
    "lenType": 16,
    "lenVar": 40
   },
   "kernels_config": {
    "python": {
     "delete_cmd_postfix": "",
     "delete_cmd_prefix": "del ",
     "library": "var_list.py",
     "varRefreshCmd": "print(var_dic_list())"
    },
    "r": {
     "delete_cmd_postfix": ") ",
     "delete_cmd_prefix": "rm(",
     "library": "var_list.r",
     "varRefreshCmd": "cat(var_dic_list()) "
    }
   },
   "types_to_exclude": [
    "module",
    "function",
    "builtin_function_or_method",
    "instance",
    "_Feature"
   ],
   "window_display": false
  }
 },
 "nbformat": 4,
 "nbformat_minor": 4
}
